{
 "cells": [
  {
   "cell_type": "code",
   "execution_count": 1,
   "metadata": {},
   "outputs": [],
   "source": [
    "import numpy as np\n",
    "import pandas as pd\n",
    "\n",
    "import requests\n",
    "import time\n",
    "import pickle\n",
    "import demoji\n",
    "from tqdm.notebook import tqdm_notebook"
   ]
  },
  {
   "cell_type": "code",
   "execution_count": 2,
   "metadata": {},
   "outputs": [
    {
     "name": "stdout",
     "output_type": "stream",
     "text": [
      "Downloading emoji data ...\n",
      "... OK (Got response in 1.89 seconds)\n",
      "Writing emoji data to /home/batyrkhan/.demoji/codes.json ...\n",
      "... OK\n"
     ]
    }
   ],
   "source": [
    "#Downloads database of emojis\n",
    "demoji.download_codes()"
   ]
  },
  {
   "cell_type": "code",
   "execution_count": 7,
   "metadata": {},
   "outputs": [],
   "source": [
    "r = requests.get(\n",
    "    'https://www.reddit.com/r/wallstreetbets/.json',\n",
    "    headers={'user-agent': 'Mozilla/5.0'}\n",
    ")"
   ]
  },
  {
   "cell_type": "code",
   "execution_count": 16,
   "metadata": {},
   "outputs": [],
   "source": [
    "data = r.json()['data']"
   ]
  },
  {
   "cell_type": "code",
   "execution_count": 28,
   "metadata": {},
   "outputs": [],
   "source": [
    "data = data['children']"
   ]
  },
  {
   "cell_type": "code",
   "execution_count": 9,
   "metadata": {
    "scrolled": true
   },
   "outputs": [
    {
     "data": {
      "text/plain": [
       "{'Connection': 'keep-alive', 'Content-Length': '142520', 'Content-Type': 'application/json; charset=UTF-8', 'x-ua-compatible': 'IE=edge', 'x-frame-options': 'SAMEORIGIN', 'x-content-type-options': 'nosniff', 'x-xss-protection': '1; mode=block', 'access-control-allow-origin': '*', 'access-control-expose-headers': 'X-Moose', 'Content-Encoding': 'gzip', 'cache-control': 'max-age=0, must-revalidate', 'X-Moose': 'majestic', 'Accept-Ranges': 'bytes', 'Date': 'Wed, 17 Mar 2021 10:11:18 GMT', 'Via': '1.1 varnish', 'Vary': 'accept-encoding', 'Set-Cookie': 'loid=0000000000aypvx3cb.2.1615975876857.Z0FBQUFBQmdVZFhGSTUxaEE2Wmd4RDRlbHg0UG1Jcy1lMlkzdEh0YTdkRjZYcl9LQVd4STFpb1ZNTTktcnlEcU1lZkF5c0JWb2FmWjVmMDdNWjNuNHMyeUlSNlVFbllicWgtWjhqSFNMbFg5QXNGam1XV1lJd1Bwa0VrVElEZVJyVkMwbEJXS2ZOS1g; Domain=reddit.com; Max-Age=63071999; Path=/; expires=Fri, 17-Mar-2023 10:11:17 GMT; secure; SameSite=None; Secure, session_tracker=uhQi8BJJT8efZqJqcx.0.1615975876857.Z0FBQUFBQmdVZFhGZElPMFFzQmZPanFUREZUY2ZIQVFxQS1mUmJmRzhnMmdHdnhhTklGOVdzd0JqcWJBMERLYkZiZnBPNUZVZnJKdkppcEFfZlI5ZHZ2SkQtanY0V1FxaGNGamNQUnlOWENpWFd6dVdJUm1LaUlFdVRWS1JGVnMyUXFlTXRrSDVHSEY; Domain=reddit.com; Max-Age=7199; Path=/; expires=Wed, 17-Mar-2021 12:11:17 GMT; secure; SameSite=None; Secure, csv=1; Max-Age=63072000; Domain=.reddit.com; Path=/; Secure; SameSite=None, edgebucket=5R5CdtfxGHtCFlFL0I; Domain=reddit.com; Max-Age=63071999; Path=/;  secure', 'Strict-Transport-Security': 'max-age=15552000; includeSubDomains; preload', 'Server': 'snooserv'}"
      ]
     },
     "execution_count": 9,
     "metadata": {},
     "output_type": "execute_result"
    }
   ],
   "source": [
    "r.headers"
   ]
  },
  {
   "cell_type": "code",
   "execution_count": 35,
   "metadata": {},
   "outputs": [
    {
     "data": {
      "text/plain": [
       "'https://www.reddit.com/r/wallstreetbets/comments/m6wyk2/daily_discussion_thread_for_march_17_2021/.json'"
      ]
     },
     "execution_count": 35,
     "metadata": {},
     "output_type": "execute_result"
    }
   ],
   "source": [
    "#Finds current name of the pinned discussion\n",
    "\n",
    "\n",
    "fresh = 'https://www.reddit.com' + r.json()['data']['children'][0]['data']['permalink'] + '.json'\n",
    "fresh"
   ]
  },
  {
   "cell_type": "code",
   "execution_count": 36,
   "metadata": {},
   "outputs": [],
   "source": [
    "def get_time(utc):\n",
    "    \"\"\"\n",
    "    Converts utc-type time into datetime\n",
    "    utc - float/int for universal time (seconds since 1970)\n",
    "    \"\"\"\n",
    "    return pd.to_datetime(time.strftime('%Y-%m-%d %H:%M:%S', time.localtime(int(utc))))\n",
    "\n",
    "def get_posts(fresh):\n",
    "    \"\"\"\n",
    "    Gets posts from the pinned topic and provides the following info:\n",
    "    time - time of post creation\n",
    "    ups - number of upvotes of the post\n",
    "    text - text of the post w/o emojis\n",
    "    \"\"\"\n",
    "    \n",
    "    r = requests.get(\n",
    "        fresh, \n",
    "        headers={'user-agent': 'Mozilla/5.0'}\n",
    "    )\n",
    "\n",
    "    posts = []\n",
    "\n",
    "    for stuff in r.json()[1]['data']['children']:\n",
    "        try:\n",
    "            posts.append( {\n",
    "                'time': get_time(stuff['data']['created_utc']), \n",
    "                'ups': stuff['data']['ups'], \n",
    "                'text': demoji.replace_with_desc(stuff['data']['body'])\n",
    "            } )\n",
    "        except:\n",
    "            continue\n",
    "            \n",
    "    return posts"
   ]
  },
  {
   "cell_type": "code",
   "execution_count": 37,
   "metadata": {},
   "outputs": [
    {
     "name": "stdout",
     "output_type": "stream",
     "text": [
      "True\n",
      "True\n",
      "True\n",
      "False\n",
      "False\n",
      "False\n",
      "False\n",
      "False\n"
     ]
    },
    {
     "data": {
      "text/plain": [
       "'AMC'"
      ]
     },
     "execution_count": 37,
     "metadata": {},
     "output_type": "execute_result"
    }
   ],
   "source": [
    "PUNC = ['.',',','?','!','@','#','$','%','^','&','*','(',')','-','+','_','=','[',']','{','}','|','/',':',\"'\",\n",
    "       '`','~','<','>']\n",
    "\n",
    "def is_ticker(text):\n",
    "    \"\"\"\n",
    "    Checks if the text looks like a ticker. Not 100% reliable\n",
    "    \"\"\"\n",
    "    \n",
    "    if (text.upper() == text) or (text[0] == '$'):\n",
    "        \n",
    "        text = ''.join([t for t in list(text) if t not in PUNC])\n",
    "        \n",
    "        if text in ['I', '', 'WSB']:\n",
    "            return False\n",
    "        else:\n",
    "            try: \n",
    "                float(text)\n",
    "                return False\n",
    "            except:\n",
    "                try: \n",
    "                    float(text.split('$')[1])\n",
    "                    return False\n",
    "                except:\n",
    "                    return True\n",
    "    else:\n",
    "        return False\n",
    "    \n",
    "    pass\n",
    "    \n",
    "print(is_ticker('GME'))\n",
    "print(is_ticker('AMC?'))\n",
    "print(is_ticker('$nok'))\n",
    "print(is_ticker('25.2'))\n",
    "print(is_ticker('I'))\n",
    "print(is_ticker('any'))\n",
    "print(is_ticker('$22.1'))\n",
    "print(is_ticker('11000'))\n",
    "\n",
    "def clean_ticker(tick):\n",
    "    \"\"\"\n",
    "    removes junk from ticker word, i.e. \"AMC,\" -> \"AMC\"\n",
    "    \"\"\"\n",
    "    \n",
    "    return ''.join([t for t in list(tick) if t not in PUNC])\n",
    "\n",
    "clean_ticker('AMC')"
   ]
  },
  {
   "cell_type": "code",
   "execution_count": 38,
   "metadata": {},
   "outputs": [],
   "source": [
    "def most_quoted(top=5):\n",
    "    \"\"\"\n",
    "    Checks posts for tickers and creates a pd.Series with number of times a ticker was mentioned.\n",
    "    top - number of most quoted tickers.\n",
    "    \"\"\"\n",
    "    \n",
    "    posts = get_posts(fresh)\n",
    "\n",
    "    tickers = []\n",
    "\n",
    "    for p in posts:\n",
    "\n",
    "        uniques = []\n",
    "\n",
    "        for w in p['text'].split(\" \"):\n",
    "            if is_ticker(w) and not (clean_ticker(w) in uniques):\n",
    "                uniques.append(clean_ticker(w))\n",
    "\n",
    "        tickers = tickers + uniques\n",
    "    print(posts)\n",
    "    return pd.Series(tickers, name=posts[0]['time']).value_counts().head(top), posts[-1]['time']"
   ]
  },
  {
   "cell_type": "code",
   "execution_count": 39,
   "metadata": {},
   "outputs": [
    {
     "data": {
      "text/plain": [
       "'2021_03_18 14_42_53'"
      ]
     },
     "execution_count": 39,
     "metadata": {},
     "output_type": "execute_result"
    }
   ],
   "source": [
    "def time_name(dt):\n",
    "    dt = str(pd.to_datetime(time.strftime('%Y-%m-%d %H:%M:%S', time.localtime(dt))))\n",
    "    return dt.replace(\":\",\"_\").replace(\"-\",\"_\")\n",
    "\n",
    "time_name(time.time())"
   ]
  },
  {
   "cell_type": "code",
   "execution_count": 41,
   "metadata": {},
   "outputs": [
    {
     "data": {
      "application/vnd.jupyter.widget-view+json": {
       "model_id": "eb788f6dbbbb4a8187d8eed8da7c965c",
       "version_major": 2,
       "version_minor": 0
      },
      "text/plain": [
       "  0%|          | 0/5 [00:00<?, ?it/s]"
      ]
     },
     "metadata": {},
     "output_type": "display_data"
    },
    {
     "name": "stdout",
     "output_type": "stream",
     "text": [
      "[{'time': Timestamp('2021-03-18 09:25:23'), 'ups': 2, 'text': 'lol why do i have nio 70c and why is it green'}, {'time': Timestamp('2021-03-18 08:13:55'), 'ups': 2, 'text': 'why doesn’t BB just rebrand?'}, {'time': Timestamp('2021-03-18 07:56:09'), 'ups': 2, 'text': 'Holy moly'}, {'time': Timestamp('2021-03-18 06:35:31'), 'ups': 2, 'text': 'My hedgefucks my position is 42069 shares at 3.14'}, {'time': Timestamp('2021-03-18 05:55:07'), 'ups': 5, 'text': '# DOW futures just hit the 92-year resistance line - 33100!'}, {'time': Timestamp('2021-03-18 05:32:28'), 'ups': -3, 'text': \"Let's gooooooooooo  PLTR! UWMC! FSR! AMC! PLUG (sure why not, picked up this morn)! and of course GME\\n\\n&amp;#x200B;\\n\\nbeen bag holding weed stocks since that spike... is it time to just get rid of em? only 2.5k total invested with all of the above.\"}, {'time': Timestamp('2021-03-18 05:26:31'), 'ups': 1, 'text': 'I love you movie monke’s'}, {'time': Timestamp('2021-03-18 05:14:35'), 'ups': -7, 'text': \"As a company they have gotten better but don't place your bets on it. Not financial advice. I might actually be retarded and it took getting married and having an honest wife to point it out to me.\"}, {'time': Timestamp('2021-03-18 04:43:24'), 'ups': 8, 'text': \"Buy calls in $EBAY.\\n\\nMy store averages about $1500 a week after shipping and fees and most of that happens over the weekend. I did $1000 just today.\\n\\nPeople are spending their fucking stimulus money like money is a carcinogen. \\n\\nAlso, buy some $TGT to save my calls please. They're probably catching some windfall also.\"}, {'time': Timestamp('2021-03-18 04:35:22'), 'ups': -7, 'text': \"Has anybody heard of SHOP? Shopify? Why the fuk is it over a thousand dollars? Cramer's pushing it.\"}, {'time': Timestamp('2021-03-18 04:34:49'), 'ups': 5, 'text': 'March 19\\n\\nAMC cinemas reopening\\n\\nGrab popcorn and drinks to watch Godzilla vs Kong\\n\\nWatch $AMC fly :rocket: \\n\\nMonke :gorilla:'}, {'time': Timestamp('2021-03-18 04:33:10'), 'ups': 3, 'text': 'Should I sell my AMC at my current 6% gain or hold to the moon? I have bad feelings in my loins about tomorrow'}, {'time': Timestamp('2021-03-18 04:32:49'), 'ups': 9, 'text': 'I’ve come to terms with the fact that my children will inherit my BB stocks'}, {'time': Timestamp('2021-03-18 04:30:10'), 'ups': 8, 'text': 'Have you ever invested in a ticker that matches your initials?'}, {'time': Timestamp('2021-03-18 04:24:08'), 'ups': 12, 'text': 'Get in UWMC before it’s too late apes :rocket:'}, {'time': Timestamp('2021-03-18 04:21:06'), 'ups': 2, 'text': \"Do you think Xiaomi will dip more, and to wait for a dip, or buy now? I believe in company even though it's banned on US stock market currently, but fuck them.\\n\\n They provide quality products for by far the best price considering the specs. I even liked riding their electric scooters, not sure what the quality of their other electrical products is. Current market cap about 70 billion USD, I think there's still a lot of room to improve it.\"}, {'time': Timestamp('2021-03-18 04:05:27'), 'ups': 4, 'text': 'Opinion on yolo on apha and tlry pre merger?'}, {'time': Timestamp('2021-03-18 04:03:44'), 'ups': 4, 'text': 'Holy shit bears are so tucked'}, {'time': Timestamp('2021-03-18 03:58:45'), 'ups': 0, 'text': 'Mfers acting like they’re investing savants but can’t accept that people can make money off GME. What’s it like to lose money everyday?'}, {'time': Timestamp('2021-03-18 03:44:50'), 'ups': 5, 'text': 'AMD'}, {'time': Timestamp('2021-03-18 03:43:47'), 'ups': 9, 'text': 'All my homies hate bonds'}, {'time': Timestamp('2021-03-18 03:43:26'), 'ups': 2, 'text': 'SNDL'}, {'time': Timestamp('2021-03-18 03:39:54'), 'ups': 8, 'text': '$BB is going to sit within the $10-12 range forever it feels'}, {'time': Timestamp('2021-03-18 03:36:40'), 'ups': 3, 'text': 'If you aren’t buying $X you’re gonna miss out on some free tendies, perfect cup on the 3 month it’s bound to explode. Been telling y’all, $X gon give it to ya.'}, {'time': Timestamp('2021-03-18 03:23:51'), 'ups': 3, 'text': 'Today’s got me too amped up'}, {'time': Timestamp('2021-03-18 03:23:08'), 'ups': 5, 'text': 'GRWG so underrated. Home depot of weed supplies'}, {'time': Timestamp('2021-03-18 03:21:55'), 'ups': 3, 'text': 'MY  ada shitcorn is printing'}, {'time': Timestamp('2021-03-18 03:20:18'), 'ups': 7, 'text': \"Rolls Royce euphoria engaged.  AMC doesn't give a single fuck about being diluted over 75%, maybe RYCEY isn't going to care either.  $15 or bust LFG.\"}, {'time': Timestamp('2021-03-18 03:19:42'), 'ups': 2, 'text': 'FedEx for their earnings tomorrow. They’ve been killing in the COVID year'}, {'time': Timestamp('2021-03-18 03:07:20'), 'ups': -8, 'text': 'Splitting our ammo between AMC and GME is beyond retarded. We should all just focus on one stock to maximize upcoming tendies.'}, {'time': Timestamp('2021-03-18 03:06:30'), 'ups': 27, 'text': 'I honestly dont have a clue wtf to do in this market. Lol'}, {'time': Timestamp('2021-03-18 03:02:53'), 'ups': 16, 'text': 'UWMC is throttling up on the launchpad :rocket:'}, {'time': Timestamp('2021-03-18 02:56:55'), 'ups': 5, 'text': 'TSLA 750 tomorrow for the love of all that is TEKNO :watermelon:'}, {'time': Timestamp('2021-03-18 02:49:43'), 'ups': 9, 'text': 'Weedstock running'}, {'time': Timestamp('2021-03-18 02:48:00'), 'ups': 27, 'text': 'GME tards asking talking about GME under RC’s tweet of his dead dad :neutral face:'}, {'time': Timestamp('2021-03-18 02:44:26'), 'ups': 12, 'text': 'That $PLUG dip sure was nice.'}, {'time': Timestamp('2021-03-18 02:42:24'), 'ups': 12, 'text': 'Thoughts on tomorrow? Will the party continue on?'}, {'time': Timestamp('2021-03-18 02:40:13'), 'ups': 22, 'text': 'GME gang be like - we survive another day. :grinning face:'}, {'time': Timestamp('2021-03-18 02:35:57'), 'ups': -7, 'text': 'Why does it take a few days for my money to settle in Webull after selling option?'}, {'time': Timestamp('2021-03-18 02:35:13'), 'ups': -1, 'text': 'TLRY mooning AH baby :rocket:'}, {'time': Timestamp('2021-03-18 02:32:28'), 'ups': 18, 'text': 'AMC IS THE KING OF POWERHOUR'}, {'time': Timestamp('2021-03-18 02:29:57'), 'ups': 24, 'text': 'Yo UMWC actually up to something.  Some tall green candles today.'}, {'time': Timestamp('2021-03-18 02:29:50'), 'ups': 12, 'text': 'First you got plug getting exposed.\\n\\nNow VLDR is getting hammered for fucked up accounting practices.\\n\\nIt’s almost like this over valued clown market breeds corruption.\\n\\nEvery company can just look at what Elon and crew have gotten away with and say, “hey why not us too?”'}, {'time': Timestamp('2021-03-18 02:28:32'), 'ups': 11, 'text': 'Uwmc adding to gains after hours ~5%'}, {'time': Timestamp('2021-03-18 02:28:15'), 'ups': 10, 'text': 'AMC BABY!'}, {'time': Timestamp('2021-03-18 02:27:38'), 'ups': 7, 'text': 'Dude who recommended ASO. Thank you.'}, {'time': Timestamp('2021-03-18 02:27:34'), 'ups': 3, 'text': 'I don’t have good feeling about tomorrow'}, {'time': Timestamp('2021-03-18 02:26:53'), 'ups': 10, 'text': 'Tomorrow- Open red. Dip. Moon'}, {'time': Timestamp('2021-03-18 02:26:44'), 'ups': 3, 'text': \"VXX puts are printing. Too bad I didn't do FDs.\"}, {'time': Timestamp('2021-03-18 02:26:28'), 'ups': 6, 'text': 'Always important to remember to never forget, in the wise words of Wu Tang C.R.E.A.M.'}, {'time': Timestamp('2021-03-18 02:25:05'), 'ups': 1, 'text': 'Hope y’all sold your calls eod'}, {'time': Timestamp('2021-03-18 02:23:52'), 'ups': 10, 'text': 'AMC RUNNING'}, {'time': Timestamp('2021-03-18 02:23:42'), 'ups': 1, 'text': 'JPOW to the moon :crescent moon: :rocket:'}, {'time': Timestamp('2021-03-18 02:19:42'), 'ups': 3, 'text': 'I missed it, what did Jpow say with all his tools?'}, {'time': Timestamp('2021-03-18 02:19:27'), 'ups': 26, 'text': 'How is PLTR being held down? Should be ripping! Hopefully we start testing $30 next week.'}, {'time': Timestamp('2021-03-18 02:19:21'), 'ups': 2, 'text': 'y sndl not drilling not the earths core?'}, {'time': Timestamp('2021-03-18 02:18:58'), 'ups': 25, 'text': 'UWMC climbing after hours.'}, {'time': Timestamp('2021-03-18 02:18:07'), 'ups': -6, 'text': 'G\\n@\\nM\\nE\\nS\\nT\\nO\\nP\\n\\nE\\nN\\nD\\nE\\nD\\n\\nI\\nN\\n\\nT\\nH\\nE\\n\\nG\\nR\\nE\\nE\\nN\\n\\nD\\nI\\nL\\nD\\nO\\n\\nR\\nE\\nG\\nI\\nO\\nN'}, {'time': Timestamp('2021-03-18 02:18:02'), 'ups': 5, 'text': 'When are SNDL earnings?'}, {'time': Timestamp('2021-03-18 02:17:47'), 'ups': 8, 'text': \"At the craps table.... Autists : let's go $50 call buy a 6 buy an 8, $100 on the field $20 match for the good guys $20 on the horn fuck it color me up \\nRetards : I think I got this idk fuck it $1,000 on the field\\nApes : hey daddy is that like a pool table for dices?\"}, {'time': Timestamp('2021-03-18 02:17:25'), 'ups': 34, 'text': 'As the trading day ends, all I have to say is fuck the bastard who killed those 8 people. Hope you get actual apes butt fucking you in hell'}, {'time': Timestamp('2021-03-18 02:17:09'), 'ups': 3, 'text': 'It\\'s really obvious that you\\'re a giant weenie when you handwring about inflation. \"But what about the price of groceries?!\" What about it? Fuck you--you\\'ll pay it.'}, {'time': Timestamp('2021-03-18 02:16:52'), 'ups': 2, 'text': \"Okay, what negative information am I missing on PYR? I've been researching for days, and can't find the catch, if there is one.\\n\\nThe closest I've found is that their competitors may be able to use high heat electric ovens and not plasma torches to to a similar, but less complete job of eradicating waste. But one that might be acceptable to meet environmental regulations in the near-term.\"}, {'time': Timestamp('2021-03-18 02:16:41'), 'ups': 2, 'text': \"Alright guys, Lordstown issued their 2020 4Q press release but the SEC filing is still missing in action. 4:30 investor call. \\n\\nI admit I was surprised to learn they had 630 million in cash and cash equivalents at 12/31/20, but was unsurprised to see they are projecting at least 470 - 510 million in expenses this year. \\n\\nThey are looking for a loan, but they ain't gonna get any :face with tongue: and how would investors respond to another huge stock issuance?\\n\\nIt's going down! \\nI look forward to the call.\"}]"
     ]
    },
    {
     "name": "stdout",
     "output_type": "stream",
     "text": [
      "\n"
     ]
    },
    {
     "data": {
      "text/html": [
       "<div>\n",
       "<style scoped>\n",
       "    .dataframe tbody tr th:only-of-type {\n",
       "        vertical-align: middle;\n",
       "    }\n",
       "\n",
       "    .dataframe tbody tr th {\n",
       "        vertical-align: top;\n",
       "    }\n",
       "\n",
       "    .dataframe thead th {\n",
       "        text-align: right;\n",
       "    }\n",
       "</style>\n",
       "<table border=\"1\" class=\"dataframe\">\n",
       "  <thead>\n",
       "    <tr style=\"text-align: right;\">\n",
       "      <th></th>\n",
       "      <th>2021-03-18 09:25:23</th>\n",
       "    </tr>\n",
       "  </thead>\n",
       "  <tbody>\n",
       "    <tr>\n",
       "      <th>AMC</th>\n",
       "      <td>8</td>\n",
       "    </tr>\n",
       "    <tr>\n",
       "      <th>UWMC</th>\n",
       "      <td>4</td>\n",
       "    </tr>\n",
       "    <tr>\n",
       "      <th>GME</th>\n",
       "      <td>4</td>\n",
       "    </tr>\n",
       "    <tr>\n",
       "      <th>BB</th>\n",
       "      <td>3</td>\n",
       "    </tr>\n",
       "    <tr>\n",
       "      <th>PLTR</th>\n",
       "      <td>2</td>\n",
       "    </tr>\n",
       "    <tr>\n",
       "      <th>SNDL</th>\n",
       "      <td>2</td>\n",
       "    </tr>\n",
       "    <tr>\n",
       "      <th>PLUG</th>\n",
       "      <td>2</td>\n",
       "    </tr>\n",
       "    <tr>\n",
       "      <th>DOW</th>\n",
       "      <td>1</td>\n",
       "    </tr>\n",
       "    <tr>\n",
       "      <th>THE</th>\n",
       "      <td>1</td>\n",
       "    </tr>\n",
       "    <tr>\n",
       "      <th>US</th>\n",
       "      <td>1</td>\n",
       "    </tr>\n",
       "  </tbody>\n",
       "</table>\n",
       "</div>"
      ],
      "text/plain": [
       "      2021-03-18 09:25:23\n",
       "AMC                     8\n",
       "UWMC                    4\n",
       "GME                     4\n",
       "BB                      3\n",
       "PLTR                    2\n",
       "SNDL                    2\n",
       "PLUG                    2\n",
       "DOW                     1\n",
       "THE                     1\n",
       "US                      1"
      ]
     },
     "metadata": {},
     "output_type": "display_data"
    },
    {
     "data": {
      "text/plain": [
       "True"
      ]
     },
     "metadata": {},
     "output_type": "display_data"
    },
    {
     "name": "stdout",
     "output_type": "stream",
     "text": [
      "[{'time': Timestamp('2021-03-18 09:25:23'), 'ups': 2, 'text': 'lol why do i have nio 70c and why is it green'}, {'time': Timestamp('2021-03-18 08:13:55'), 'ups': 2, 'text': 'why doesn’t BB just rebrand?'}, {'time': Timestamp('2021-03-18 07:56:09'), 'ups': 2, 'text': 'Holy moly'}, {'time': Timestamp('2021-03-18 06:35:31'), 'ups': 2, 'text': 'My hedgefucks my position is 42069 shares at 3.14'}, {'time': Timestamp('2021-03-18 05:55:07'), 'ups': 4, 'text': '# DOW futures just hit the 92-year resistance line - 33100!'}, {'time': Timestamp('2021-03-18 05:32:28'), 'ups': -3, 'text': \"Let's gooooooooooo  PLTR! UWMC! FSR! AMC! PLUG (sure why not, picked up this morn)! and of course GME\\n\\n&amp;#x200B;\\n\\nbeen bag holding weed stocks since that spike... is it time to just get rid of em? only 2.5k total invested with all of the above.\"}, {'time': Timestamp('2021-03-18 05:26:31'), 'ups': 1, 'text': 'I love you movie monke’s'}, {'time': Timestamp('2021-03-18 05:14:35'), 'ups': -7, 'text': \"As a company they have gotten better but don't place your bets on it. Not financial advice. I might actually be retarded and it took getting married and having an honest wife to point it out to me.\"}, {'time': Timestamp('2021-03-18 04:43:24'), 'ups': 8, 'text': \"Buy calls in $EBAY.\\n\\nMy store averages about $1500 a week after shipping and fees and most of that happens over the weekend. I did $1000 just today.\\n\\nPeople are spending their fucking stimulus money like money is a carcinogen. \\n\\nAlso, buy some $TGT to save my calls please. They're probably catching some windfall also.\"}, {'time': Timestamp('2021-03-18 04:35:22'), 'ups': -6, 'text': \"Has anybody heard of SHOP? Shopify? Why the fuk is it over a thousand dollars? Cramer's pushing it.\"}, {'time': Timestamp('2021-03-18 04:34:49'), 'ups': 3, 'text': 'March 19\\n\\nAMC cinemas reopening\\n\\nGrab popcorn and drinks to watch Godzilla vs Kong\\n\\nWatch $AMC fly :rocket: \\n\\nMonke :gorilla:'}, {'time': Timestamp('2021-03-18 04:33:10'), 'ups': 2, 'text': 'Should I sell my AMC at my current 6% gain or hold to the moon? I have bad feelings in my loins about tomorrow'}, {'time': Timestamp('2021-03-18 04:32:49'), 'ups': 10, 'text': 'I’ve come to terms with the fact that my children will inherit my BB stocks'}, {'time': Timestamp('2021-03-18 04:30:10'), 'ups': 10, 'text': 'Have you ever invested in a ticker that matches your initials?'}, {'time': Timestamp('2021-03-18 04:24:08'), 'ups': 11, 'text': 'Get in UWMC before it’s too late apes :rocket:'}, {'time': Timestamp('2021-03-18 04:21:06'), 'ups': 2, 'text': \"Do you think Xiaomi will dip more, and to wait for a dip, or buy now? I believe in company even though it's banned on US stock market currently, but fuck them.\\n\\n They provide quality products for by far the best price considering the specs. I even liked riding their electric scooters, not sure what the quality of their other electrical products is. Current market cap about 70 billion USD, I think there's still a lot of room to improve it.\"}, {'time': Timestamp('2021-03-18 04:05:27'), 'ups': 4, 'text': 'Opinion on yolo on apha and tlry pre merger?'}, {'time': Timestamp('2021-03-18 04:03:44'), 'ups': 4, 'text': 'Holy shit bears are so tucked'}, {'time': Timestamp('2021-03-18 03:58:45'), 'ups': -1, 'text': 'Mfers acting like they’re investing savants but can’t accept that people can make money off GME. What’s it like to lose money everyday?'}, {'time': Timestamp('2021-03-18 03:44:50'), 'ups': 5, 'text': 'AMD'}, {'time': Timestamp('2021-03-18 03:43:47'), 'ups': 9, 'text': 'All my homies hate bonds'}, {'time': Timestamp('2021-03-18 03:43:26'), 'ups': 3, 'text': 'SNDL'}, {'time': Timestamp('2021-03-18 03:39:54'), 'ups': 9, 'text': '$BB is going to sit within the $10-12 range forever it feels'}, {'time': Timestamp('2021-03-18 03:36:40'), 'ups': 3, 'text': 'If you aren’t buying $X you’re gonna miss out on some free tendies, perfect cup on the 3 month it’s bound to explode. Been telling y’all, $X gon give it to ya.'}, {'time': Timestamp('2021-03-18 03:23:51'), 'ups': 4, 'text': 'Today’s got me too amped up'}, {'time': Timestamp('2021-03-18 03:23:08'), 'ups': 5, 'text': 'GRWG so underrated. Home depot of weed supplies'}, {'time': Timestamp('2021-03-18 03:21:55'), 'ups': 3, 'text': 'MY  ada shitcorn is printing'}, {'time': Timestamp('2021-03-18 03:20:18'), 'ups': 6, 'text': \"Rolls Royce euphoria engaged.  AMC doesn't give a single fuck about being diluted over 75%, maybe RYCEY isn't going to care either.  $15 or bust LFG.\"}, {'time': Timestamp('2021-03-18 03:19:42'), 'ups': 2, 'text': 'FedEx for their earnings tomorrow. They’ve been killing in the COVID year'}, {'time': Timestamp('2021-03-18 03:07:20'), 'ups': -9, 'text': 'Splitting our ammo between AMC and GME is beyond retarded. We should all just focus on one stock to maximize upcoming tendies.'}, {'time': Timestamp('2021-03-18 03:06:30'), 'ups': 28, 'text': 'I honestly dont have a clue wtf to do in this market. Lol'}, {'time': Timestamp('2021-03-18 03:02:53'), 'ups': 16, 'text': 'UWMC is throttling up on the launchpad :rocket:'}, {'time': Timestamp('2021-03-18 02:56:55'), 'ups': 3, 'text': 'TSLA 750 tomorrow for the love of all that is TEKNO :watermelon:'}, {'time': Timestamp('2021-03-18 02:49:43'), 'ups': 8, 'text': 'Weedstock running'}, {'time': Timestamp('2021-03-18 02:48:00'), 'ups': 31, 'text': 'GME tards asking talking about GME under RC’s tweet of his dead dad :neutral face:'}, {'time': Timestamp('2021-03-18 02:44:26'), 'ups': 12, 'text': 'That $PLUG dip sure was nice.'}, {'time': Timestamp('2021-03-18 02:42:24'), 'ups': 14, 'text': 'Thoughts on tomorrow? Will the party continue on?'}, {'time': Timestamp('2021-03-18 02:40:13'), 'ups': 23, 'text': 'GME gang be like - we survive another day. :grinning face:'}, {'time': Timestamp('2021-03-18 02:35:57'), 'ups': -7, 'text': 'Why does it take a few days for my money to settle in Webull after selling option?'}, {'time': Timestamp('2021-03-18 02:35:13'), 'ups': -2, 'text': 'TLRY mooning AH baby :rocket:'}, {'time': Timestamp('2021-03-18 02:32:28'), 'ups': 19, 'text': 'AMC IS THE KING OF POWERHOUR'}, {'time': Timestamp('2021-03-18 02:29:57'), 'ups': 27, 'text': 'Yo UMWC actually up to something.  Some tall green candles today.'}, {'time': Timestamp('2021-03-18 02:29:50'), 'ups': 13, 'text': 'First you got plug getting exposed.\\n\\nNow VLDR is getting hammered for fucked up accounting practices.\\n\\nIt’s almost like this over valued clown market breeds corruption.\\n\\nEvery company can just look at what Elon and crew have gotten away with and say, “hey why not us too?”'}, {'time': Timestamp('2021-03-18 02:28:32'), 'ups': 10, 'text': 'Uwmc adding to gains after hours ~5%'}, {'time': Timestamp('2021-03-18 02:28:15'), 'ups': 10, 'text': 'AMC BABY!'}, {'time': Timestamp('2021-03-18 02:27:38'), 'ups': 8, 'text': 'Dude who recommended ASO. Thank you.'}, {'time': Timestamp('2021-03-18 02:27:34'), 'ups': 3, 'text': 'I don’t have good feeling about tomorrow'}, {'time': Timestamp('2021-03-18 02:26:53'), 'ups': 9, 'text': 'Tomorrow- Open red. Dip. Moon'}, {'time': Timestamp('2021-03-18 02:26:44'), 'ups': 3, 'text': \"VXX puts are printing. Too bad I didn't do FDs.\"}, {'time': Timestamp('2021-03-18 02:26:28'), 'ups': 6, 'text': 'Always important to remember to never forget, in the wise words of Wu Tang C.R.E.A.M.'}, {'time': Timestamp('2021-03-18 02:25:05'), 'ups': 2, 'text': 'Hope y’all sold your calls eod'}, {'time': Timestamp('2021-03-18 02:23:52'), 'ups': 8, 'text': 'AMC RUNNING'}, {'time': Timestamp('2021-03-18 02:23:42'), 'ups': 1, 'text': 'JPOW to the moon :crescent moon: :rocket:'}, {'time': Timestamp('2021-03-18 02:19:42'), 'ups': 3, 'text': 'I missed it, what did Jpow say with all his tools?'}, {'time': Timestamp('2021-03-18 02:19:27'), 'ups': 26, 'text': 'How is PLTR being held down? Should be ripping! Hopefully we start testing $30 next week.'}, {'time': Timestamp('2021-03-18 02:19:21'), 'ups': 2, 'text': 'y sndl not drilling not the earths core?'}, {'time': Timestamp('2021-03-18 02:18:58'), 'ups': 26, 'text': 'UWMC climbing after hours.'}, {'time': Timestamp('2021-03-18 02:18:07'), 'ups': -6, 'text': 'G\\n@\\nM\\nE\\nS\\nT\\nO\\nP\\n\\nE\\nN\\nD\\nE\\nD\\n\\nI\\nN\\n\\nT\\nH\\nE\\n\\nG\\nR\\nE\\nE\\nN\\n\\nD\\nI\\nL\\nD\\nO\\n\\nR\\nE\\nG\\nI\\nO\\nN'}, {'time': Timestamp('2021-03-18 02:18:02'), 'ups': 7, 'text': 'When are SNDL earnings?'}, {'time': Timestamp('2021-03-18 02:17:47'), 'ups': 8, 'text': \"At the craps table.... Autists : let's go $50 call buy a 6 buy an 8, $100 on the field $20 match for the good guys $20 on the horn fuck it color me up \\nRetards : I think I got this idk fuck it $1,000 on the field\\nApes : hey daddy is that like a pool table for dices?\"}, {'time': Timestamp('2021-03-18 02:17:25'), 'ups': 32, 'text': 'As the trading day ends, all I have to say is fuck the bastard who killed those 8 people. Hope you get actual apes butt fucking you in hell'}, {'time': Timestamp('2021-03-18 02:17:09'), 'ups': 3, 'text': 'It\\'s really obvious that you\\'re a giant weenie when you handwring about inflation. \"But what about the price of groceries?!\" What about it? Fuck you--you\\'ll pay it.'}, {'time': Timestamp('2021-03-18 02:16:52'), 'ups': 2, 'text': \"Okay, what negative information am I missing on PYR? I've been researching for days, and can't find the catch, if there is one.\\n\\nThe closest I've found is that their competitors may be able to use high heat electric ovens and not plasma torches to to a similar, but less complete job of eradicating waste. But one that might be acceptable to meet environmental regulations in the near-term.\"}, {'time': Timestamp('2021-03-18 02:16:41'), 'ups': 2, 'text': \"Alright guys, Lordstown issued their 2020 4Q press release but the SEC filing is still missing in action. 4:30 investor call. \\n\\nI admit I was surprised to learn they had 630 million in cash and cash equivalents at 12/31/20, but was unsurprised to see they are projecting at least 470 - 510 million in expenses this year. \\n\\nThey are looking for a loan, but they ain't gonna get any :face with tongue: and how would investors respond to another huge stock issuance?\\n\\nIt's going down! \\nI look forward to the call.\"}]"
     ]
    },
    {
     "name": "stdout",
     "output_type": "stream",
     "text": [
      "\n"
     ]
    },
    {
     "data": {
      "text/html": [
       "<div>\n",
       "<style scoped>\n",
       "    .dataframe tbody tr th:only-of-type {\n",
       "        vertical-align: middle;\n",
       "    }\n",
       "\n",
       "    .dataframe tbody tr th {\n",
       "        vertical-align: top;\n",
       "    }\n",
       "\n",
       "    .dataframe thead th {\n",
       "        text-align: right;\n",
       "    }\n",
       "</style>\n",
       "<table border=\"1\" class=\"dataframe\">\n",
       "  <thead>\n",
       "    <tr style=\"text-align: right;\">\n",
       "      <th></th>\n",
       "      <th>2021-03-18 09:25:23</th>\n",
       "      <th>2021-03-18 09:25:23_</th>\n",
       "    </tr>\n",
       "  </thead>\n",
       "  <tbody>\n",
       "    <tr>\n",
       "      <th>AMC</th>\n",
       "      <td>8</td>\n",
       "      <td>8</td>\n",
       "    </tr>\n",
       "    <tr>\n",
       "      <th>UWMC</th>\n",
       "      <td>4</td>\n",
       "      <td>4</td>\n",
       "    </tr>\n",
       "    <tr>\n",
       "      <th>GME</th>\n",
       "      <td>4</td>\n",
       "      <td>4</td>\n",
       "    </tr>\n",
       "    <tr>\n",
       "      <th>BB</th>\n",
       "      <td>3</td>\n",
       "      <td>3</td>\n",
       "    </tr>\n",
       "    <tr>\n",
       "      <th>PLTR</th>\n",
       "      <td>2</td>\n",
       "      <td>2</td>\n",
       "    </tr>\n",
       "    <tr>\n",
       "      <th>SNDL</th>\n",
       "      <td>2</td>\n",
       "      <td>2</td>\n",
       "    </tr>\n",
       "    <tr>\n",
       "      <th>PLUG</th>\n",
       "      <td>2</td>\n",
       "      <td>2</td>\n",
       "    </tr>\n",
       "    <tr>\n",
       "      <th>DOW</th>\n",
       "      <td>1</td>\n",
       "      <td>1</td>\n",
       "    </tr>\n",
       "    <tr>\n",
       "      <th>THE</th>\n",
       "      <td>1</td>\n",
       "      <td>1</td>\n",
       "    </tr>\n",
       "    <tr>\n",
       "      <th>US</th>\n",
       "      <td>1</td>\n",
       "      <td>1</td>\n",
       "    </tr>\n",
       "  </tbody>\n",
       "</table>\n",
       "</div>"
      ],
      "text/plain": [
       "      2021-03-18 09:25:23  2021-03-18 09:25:23_\n",
       "AMC                     8                     8\n",
       "UWMC                    4                     4\n",
       "GME                     4                     4\n",
       "BB                      3                     3\n",
       "PLTR                    2                     2\n",
       "SNDL                    2                     2\n",
       "PLUG                    2                     2\n",
       "DOW                     1                     1\n",
       "THE                     1                     1\n",
       "US                      1                     1"
      ]
     },
     "metadata": {},
     "output_type": "display_data"
    },
    {
     "data": {
      "text/plain": [
       "True"
      ]
     },
     "metadata": {},
     "output_type": "display_data"
    },
    {
     "name": "stdout",
     "output_type": "stream",
     "text": [
      "[{'time': Timestamp('2021-03-18 09:25:23'), 'ups': 2, 'text': 'lol why do i have nio 70c and why is it green'}, {'time': Timestamp('2021-03-18 08:13:55'), 'ups': 2, 'text': 'why doesn’t BB just rebrand?'}, {'time': Timestamp('2021-03-18 07:56:09'), 'ups': 2, 'text': 'Holy moly'}, {'time': Timestamp('2021-03-18 06:35:31'), 'ups': 2, 'text': 'My hedgefucks my position is 42069 shares at 3.14'}, {'time': Timestamp('2021-03-18 05:55:07'), 'ups': 5, 'text': '# DOW futures just hit the 92-year resistance line - 33100!'}, {'time': Timestamp('2021-03-18 05:32:28'), 'ups': -2, 'text': \"Let's gooooooooooo  PLTR! UWMC! FSR! AMC! PLUG (sure why not, picked up this morn)! and of course GME\\n\\n&amp;#x200B;\\n\\nbeen bag holding weed stocks since that spike... is it time to just get rid of em? only 2.5k total invested with all of the above.\"}, {'time': Timestamp('2021-03-18 05:26:31'), 'ups': 1, 'text': 'I love you movie monke’s'}, {'time': Timestamp('2021-03-18 05:14:35'), 'ups': -8, 'text': \"As a company they have gotten better but don't place your bets on it. Not financial advice. I might actually be retarded and it took getting married and having an honest wife to point it out to me.\"}, {'time': Timestamp('2021-03-18 04:43:24'), 'ups': 10, 'text': \"Buy calls in $EBAY.\\n\\nMy store averages about $1500 a week after shipping and fees and most of that happens over the weekend. I did $1000 just today.\\n\\nPeople are spending their fucking stimulus money like money is a carcinogen. \\n\\nAlso, buy some $TGT to save my calls please. They're probably catching some windfall also.\"}, {'time': Timestamp('2021-03-18 04:35:22'), 'ups': -6, 'text': \"Has anybody heard of SHOP? Shopify? Why the fuk is it over a thousand dollars? Cramer's pushing it.\"}, {'time': Timestamp('2021-03-18 04:34:49'), 'ups': 4, 'text': 'March 19\\n\\nAMC cinemas reopening\\n\\nGrab popcorn and drinks to watch Godzilla vs Kong\\n\\nWatch $AMC fly :rocket: \\n\\nMonke :gorilla:'}, {'time': Timestamp('2021-03-18 04:33:10'), 'ups': 2, 'text': 'Should I sell my AMC at my current 6% gain or hold to the moon? I have bad feelings in my loins about tomorrow'}, {'time': Timestamp('2021-03-18 04:32:49'), 'ups': 10, 'text': 'I’ve come to terms with the fact that my children will inherit my BB stocks'}, {'time': Timestamp('2021-03-18 04:30:10'), 'ups': 9, 'text': 'Have you ever invested in a ticker that matches your initials?'}, {'time': Timestamp('2021-03-18 04:24:08'), 'ups': 11, 'text': 'Get in UWMC before it’s too late apes :rocket:'}, {'time': Timestamp('2021-03-18 04:21:06'), 'ups': 2, 'text': \"Do you think Xiaomi will dip more, and to wait for a dip, or buy now? I believe in company even though it's banned on US stock market currently, but fuck them.\\n\\n They provide quality products for by far the best price considering the specs. I even liked riding their electric scooters, not sure what the quality of their other electrical products is. Current market cap about 70 billion USD, I think there's still a lot of room to improve it.\"}, {'time': Timestamp('2021-03-18 04:05:27'), 'ups': 4, 'text': 'Opinion on yolo on apha and tlry pre merger?'}, {'time': Timestamp('2021-03-18 04:03:44'), 'ups': 4, 'text': 'Holy shit bears are so tucked'}, {'time': Timestamp('2021-03-18 03:58:45'), 'ups': -2, 'text': 'Mfers acting like they’re investing savants but can’t accept that people can make money off GME. What’s it like to lose money everyday?'}, {'time': Timestamp('2021-03-18 03:44:50'), 'ups': 5, 'text': 'AMD'}, {'time': Timestamp('2021-03-18 03:43:47'), 'ups': 10, 'text': 'All my homies hate bonds'}, {'time': Timestamp('2021-03-18 03:43:26'), 'ups': 3, 'text': 'SNDL'}, {'time': Timestamp('2021-03-18 03:39:54'), 'ups': 8, 'text': '$BB is going to sit within the $10-12 range forever it feels'}, {'time': Timestamp('2021-03-18 03:36:40'), 'ups': 3, 'text': 'If you aren’t buying $X you’re gonna miss out on some free tendies, perfect cup on the 3 month it’s bound to explode. Been telling y’all, $X gon give it to ya.'}, {'time': Timestamp('2021-03-18 03:23:51'), 'ups': 4, 'text': 'Today’s got me too amped up'}, {'time': Timestamp('2021-03-18 03:23:08'), 'ups': 6, 'text': 'GRWG so underrated. Home depot of weed supplies'}, {'time': Timestamp('2021-03-18 03:21:55'), 'ups': 3, 'text': 'MY  ada shitcorn is printing'}, {'time': Timestamp('2021-03-18 03:20:18'), 'ups': 7, 'text': \"Rolls Royce euphoria engaged.  AMC doesn't give a single fuck about being diluted over 75%, maybe RYCEY isn't going to care either.  $15 or bust LFG.\"}, {'time': Timestamp('2021-03-18 03:19:42'), 'ups': 2, 'text': 'FedEx for their earnings tomorrow. They’ve been killing in the COVID year'}, {'time': Timestamp('2021-03-18 03:07:20'), 'ups': -9, 'text': 'Splitting our ammo between AMC and GME is beyond retarded. We should all just focus on one stock to maximize upcoming tendies.'}, {'time': Timestamp('2021-03-18 03:06:30'), 'ups': 27, 'text': 'I honestly dont have a clue wtf to do in this market. Lol'}, {'time': Timestamp('2021-03-18 03:02:53'), 'ups': 18, 'text': 'UWMC is throttling up on the launchpad :rocket:'}, {'time': Timestamp('2021-03-18 02:56:55'), 'ups': 4, 'text': 'TSLA 750 tomorrow for the love of all that is TEKNO :watermelon:'}, {'time': Timestamp('2021-03-18 02:49:43'), 'ups': 8, 'text': 'Weedstock running'}, {'time': Timestamp('2021-03-18 02:48:00'), 'ups': 27, 'text': 'GME tards asking talking about GME under RC’s tweet of his dead dad :neutral face:'}, {'time': Timestamp('2021-03-18 02:44:26'), 'ups': 12, 'text': 'That $PLUG dip sure was nice.'}, {'time': Timestamp('2021-03-18 02:42:24'), 'ups': 13, 'text': 'Thoughts on tomorrow? Will the party continue on?'}, {'time': Timestamp('2021-03-18 02:40:13'), 'ups': 21, 'text': 'GME gang be like - we survive another day. :grinning face:'}, {'time': Timestamp('2021-03-18 02:35:57'), 'ups': -5, 'text': 'Why does it take a few days for my money to settle in Webull after selling option?'}, {'time': Timestamp('2021-03-18 02:35:13'), 'ups': 0, 'text': 'TLRY mooning AH baby :rocket:'}, {'time': Timestamp('2021-03-18 02:32:28'), 'ups': 19, 'text': 'AMC IS THE KING OF POWERHOUR'}, {'time': Timestamp('2021-03-18 02:29:57'), 'ups': 24, 'text': 'Yo UMWC actually up to something.  Some tall green candles today.'}, {'time': Timestamp('2021-03-18 02:29:50'), 'ups': 10, 'text': 'First you got plug getting exposed.\\n\\nNow VLDR is getting hammered for fucked up accounting practices.\\n\\nIt’s almost like this over valued clown market breeds corruption.\\n\\nEvery company can just look at what Elon and crew have gotten away with and say, “hey why not us too?”'}, {'time': Timestamp('2021-03-18 02:28:32'), 'ups': 10, 'text': 'Uwmc adding to gains after hours ~5%'}, {'time': Timestamp('2021-03-18 02:28:15'), 'ups': 8, 'text': 'AMC BABY!'}, {'time': Timestamp('2021-03-18 02:27:38'), 'ups': 6, 'text': 'Dude who recommended ASO. Thank you.'}, {'time': Timestamp('2021-03-18 02:27:34'), 'ups': 5, 'text': 'I don’t have good feeling about tomorrow'}, {'time': Timestamp('2021-03-18 02:26:53'), 'ups': 10, 'text': 'Tomorrow- Open red. Dip. Moon'}, {'time': Timestamp('2021-03-18 02:26:44'), 'ups': 3, 'text': \"VXX puts are printing. Too bad I didn't do FDs.\"}, {'time': Timestamp('2021-03-18 02:26:28'), 'ups': 8, 'text': 'Always important to remember to never forget, in the wise words of Wu Tang C.R.E.A.M.'}, {'time': Timestamp('2021-03-18 02:25:05'), 'ups': -2, 'text': 'Hope y’all sold your calls eod'}, {'time': Timestamp('2021-03-18 02:23:52'), 'ups': 10, 'text': 'AMC RUNNING'}, {'time': Timestamp('2021-03-18 02:23:42'), 'ups': 1, 'text': 'JPOW to the moon :crescent moon: :rocket:'}, {'time': Timestamp('2021-03-18 02:19:42'), 'ups': 3, 'text': 'I missed it, what did Jpow say with all his tools?'}, {'time': Timestamp('2021-03-18 02:19:27'), 'ups': 25, 'text': 'How is PLTR being held down? Should be ripping! Hopefully we start testing $30 next week.'}, {'time': Timestamp('2021-03-18 02:19:21'), 'ups': 2, 'text': 'y sndl not drilling not the earths core?'}, {'time': Timestamp('2021-03-18 02:18:58'), 'ups': 27, 'text': 'UWMC climbing after hours.'}, {'time': Timestamp('2021-03-18 02:18:07'), 'ups': -5, 'text': 'G\\n@\\nM\\nE\\nS\\nT\\nO\\nP\\n\\nE\\nN\\nD\\nE\\nD\\n\\nI\\nN\\n\\nT\\nH\\nE\\n\\nG\\nR\\nE\\nE\\nN\\n\\nD\\nI\\nL\\nD\\nO\\n\\nR\\nE\\nG\\nI\\nO\\nN'}, {'time': Timestamp('2021-03-18 02:18:02'), 'ups': 6, 'text': 'When are SNDL earnings?'}, {'time': Timestamp('2021-03-18 02:17:47'), 'ups': 5, 'text': \"At the craps table.... Autists : let's go $50 call buy a 6 buy an 8, $100 on the field $20 match for the good guys $20 on the horn fuck it color me up \\nRetards : I think I got this idk fuck it $1,000 on the field\\nApes : hey daddy is that like a pool table for dices?\"}, {'time': Timestamp('2021-03-18 02:17:25'), 'ups': 32, 'text': 'As the trading day ends, all I have to say is fuck the bastard who killed those 8 people. Hope you get actual apes butt fucking you in hell'}, {'time': Timestamp('2021-03-18 02:17:09'), 'ups': 3, 'text': 'It\\'s really obvious that you\\'re a giant weenie when you handwring about inflation. \"But what about the price of groceries?!\" What about it? Fuck you--you\\'ll pay it.'}, {'time': Timestamp('2021-03-18 02:16:52'), 'ups': 2, 'text': \"Okay, what negative information am I missing on PYR? I've been researching for days, and can't find the catch, if there is one.\\n\\nThe closest I've found is that their competitors may be able to use high heat electric ovens and not plasma torches to to a similar, but less complete job of eradicating waste. But one that might be acceptable to meet environmental regulations in the near-term.\"}, {'time': Timestamp('2021-03-18 02:16:41'), 'ups': 2, 'text': \"Alright guys, Lordstown issued their 2020 4Q press release but the SEC filing is still missing in action. 4:30 investor call. \\n\\nI admit I was surprised to learn they had 630 million in cash and cash equivalents at 12/31/20, but was unsurprised to see they are projecting at least 470 - 510 million in expenses this year. \\n\\nThey are looking for a loan, but they ain't gonna get any :face with tongue: and how would investors respond to another huge stock issuance?\\n\\nIt's going down! \\nI look forward to the call.\"}]"
     ]
    },
    {
     "name": "stdout",
     "output_type": "stream",
     "text": [
      "\n"
     ]
    },
    {
     "data": {
      "text/html": [
       "<div>\n",
       "<style scoped>\n",
       "    .dataframe tbody tr th:only-of-type {\n",
       "        vertical-align: middle;\n",
       "    }\n",
       "\n",
       "    .dataframe tbody tr th {\n",
       "        vertical-align: top;\n",
       "    }\n",
       "\n",
       "    .dataframe thead th {\n",
       "        text-align: right;\n",
       "    }\n",
       "</style>\n",
       "<table border=\"1\" class=\"dataframe\">\n",
       "  <thead>\n",
       "    <tr style=\"text-align: right;\">\n",
       "      <th></th>\n",
       "      <th>2021-03-18 09:25:23</th>\n",
       "      <th>2021-03-18 09:25:23_</th>\n",
       "      <th>2021-03-18 09:25:23</th>\n",
       "    </tr>\n",
       "  </thead>\n",
       "  <tbody>\n",
       "    <tr>\n",
       "      <th>AMC</th>\n",
       "      <td>8</td>\n",
       "      <td>8</td>\n",
       "      <td>8</td>\n",
       "    </tr>\n",
       "    <tr>\n",
       "      <th>UWMC</th>\n",
       "      <td>4</td>\n",
       "      <td>4</td>\n",
       "      <td>4</td>\n",
       "    </tr>\n",
       "    <tr>\n",
       "      <th>GME</th>\n",
       "      <td>4</td>\n",
       "      <td>4</td>\n",
       "      <td>4</td>\n",
       "    </tr>\n",
       "    <tr>\n",
       "      <th>BB</th>\n",
       "      <td>3</td>\n",
       "      <td>3</td>\n",
       "      <td>3</td>\n",
       "    </tr>\n",
       "    <tr>\n",
       "      <th>PLTR</th>\n",
       "      <td>2</td>\n",
       "      <td>2</td>\n",
       "      <td>2</td>\n",
       "    </tr>\n",
       "    <tr>\n",
       "      <th>SNDL</th>\n",
       "      <td>2</td>\n",
       "      <td>2</td>\n",
       "      <td>2</td>\n",
       "    </tr>\n",
       "    <tr>\n",
       "      <th>PLUG</th>\n",
       "      <td>2</td>\n",
       "      <td>2</td>\n",
       "      <td>2</td>\n",
       "    </tr>\n",
       "    <tr>\n",
       "      <th>DOW</th>\n",
       "      <td>1</td>\n",
       "      <td>1</td>\n",
       "      <td>1</td>\n",
       "    </tr>\n",
       "    <tr>\n",
       "      <th>THE</th>\n",
       "      <td>1</td>\n",
       "      <td>1</td>\n",
       "      <td>1</td>\n",
       "    </tr>\n",
       "    <tr>\n",
       "      <th>US</th>\n",
       "      <td>1</td>\n",
       "      <td>1</td>\n",
       "      <td>1</td>\n",
       "    </tr>\n",
       "  </tbody>\n",
       "</table>\n",
       "</div>"
      ],
      "text/plain": [
       "      2021-03-18 09:25:23  2021-03-18 09:25:23_  2021-03-18 09:25:23\n",
       "AMC                     8                     8                    8\n",
       "UWMC                    4                     4                    4\n",
       "GME                     4                     4                    4\n",
       "BB                      3                     3                    3\n",
       "PLTR                    2                     2                    2\n",
       "SNDL                    2                     2                    2\n",
       "PLUG                    2                     2                    2\n",
       "DOW                     1                     1                    1\n",
       "THE                     1                     1                    1\n",
       "US                      1                     1                    1"
      ]
     },
     "metadata": {},
     "output_type": "display_data"
    },
    {
     "data": {
      "text/plain": [
       "True"
      ]
     },
     "metadata": {},
     "output_type": "display_data"
    },
    {
     "name": "stdout",
     "output_type": "stream",
     "text": [
      "[{'time': Timestamp('2021-03-18 09:25:23'), 'ups': 2, 'text': 'lol why do i have nio 70c and why is it green'}, {'time': Timestamp('2021-03-18 08:13:55'), 'ups': 2, 'text': 'why doesn’t BB just rebrand?'}, {'time': Timestamp('2021-03-18 07:56:09'), 'ups': 2, 'text': 'Holy moly'}, {'time': Timestamp('2021-03-18 06:35:31'), 'ups': 2, 'text': 'My hedgefucks my position is 42069 shares at 3.14'}, {'time': Timestamp('2021-03-18 05:55:07'), 'ups': 5, 'text': '# DOW futures just hit the 92-year resistance line - 33100!'}, {'time': Timestamp('2021-03-18 05:32:28'), 'ups': -3, 'text': \"Let's gooooooooooo  PLTR! UWMC! FSR! AMC! PLUG (sure why not, picked up this morn)! and of course GME\\n\\n&amp;#x200B;\\n\\nbeen bag holding weed stocks since that spike... is it time to just get rid of em? only 2.5k total invested with all of the above.\"}, {'time': Timestamp('2021-03-18 05:26:31'), 'ups': 1, 'text': 'I love you movie monke’s'}, {'time': Timestamp('2021-03-18 05:14:35'), 'ups': -7, 'text': \"As a company they have gotten better but don't place your bets on it. Not financial advice. I might actually be retarded and it took getting married and having an honest wife to point it out to me.\"}, {'time': Timestamp('2021-03-18 04:43:24'), 'ups': 9, 'text': \"Buy calls in $EBAY.\\n\\nMy store averages about $1500 a week after shipping and fees and most of that happens over the weekend. I did $1000 just today.\\n\\nPeople are spending their fucking stimulus money like money is a carcinogen. \\n\\nAlso, buy some $TGT to save my calls please. They're probably catching some windfall also.\"}, {'time': Timestamp('2021-03-18 04:35:22'), 'ups': -5, 'text': \"Has anybody heard of SHOP? Shopify? Why the fuk is it over a thousand dollars? Cramer's pushing it.\"}, {'time': Timestamp('2021-03-18 04:34:49'), 'ups': 5, 'text': 'March 19\\n\\nAMC cinemas reopening\\n\\nGrab popcorn and drinks to watch Godzilla vs Kong\\n\\nWatch $AMC fly :rocket: \\n\\nMonke :gorilla:'}, {'time': Timestamp('2021-03-18 04:33:10'), 'ups': 2, 'text': 'Should I sell my AMC at my current 6% gain or hold to the moon? I have bad feelings in my loins about tomorrow'}, {'time': Timestamp('2021-03-18 04:32:49'), 'ups': 11, 'text': 'I’ve come to terms with the fact that my children will inherit my BB stocks'}, {'time': Timestamp('2021-03-18 04:30:10'), 'ups': 10, 'text': 'Have you ever invested in a ticker that matches your initials?'}, {'time': Timestamp('2021-03-18 04:24:08'), 'ups': 11, 'text': 'Get in UWMC before it’s too late apes :rocket:'}, {'time': Timestamp('2021-03-18 04:21:06'), 'ups': 2, 'text': \"Do you think Xiaomi will dip more, and to wait for a dip, or buy now? I believe in company even though it's banned on US stock market currently, but fuck them.\\n\\n They provide quality products for by far the best price considering the specs. I even liked riding their electric scooters, not sure what the quality of their other electrical products is. Current market cap about 70 billion USD, I think there's still a lot of room to improve it.\"}, {'time': Timestamp('2021-03-18 04:05:27'), 'ups': 5, 'text': 'Opinion on yolo on apha and tlry pre merger?'}, {'time': Timestamp('2021-03-18 04:03:44'), 'ups': 3, 'text': 'Holy shit bears are so tucked'}, {'time': Timestamp('2021-03-18 03:58:45'), 'ups': -1, 'text': 'Mfers acting like they’re investing savants but can’t accept that people can make money off GME. What’s it like to lose money everyday?'}, {'time': Timestamp('2021-03-18 03:44:50'), 'ups': 5, 'text': 'AMD'}, {'time': Timestamp('2021-03-18 03:43:47'), 'ups': 9, 'text': 'All my homies hate bonds'}, {'time': Timestamp('2021-03-18 03:43:26'), 'ups': 4, 'text': 'SNDL'}, {'time': Timestamp('2021-03-18 03:39:54'), 'ups': 8, 'text': '$BB is going to sit within the $10-12 range forever it feels'}, {'time': Timestamp('2021-03-18 03:36:40'), 'ups': 3, 'text': 'If you aren’t buying $X you’re gonna miss out on some free tendies, perfect cup on the 3 month it’s bound to explode. Been telling y’all, $X gon give it to ya.'}, {'time': Timestamp('2021-03-18 03:23:51'), 'ups': 5, 'text': 'Today’s got me too amped up'}, {'time': Timestamp('2021-03-18 03:23:08'), 'ups': 5, 'text': 'GRWG so underrated. Home depot of weed supplies'}, {'time': Timestamp('2021-03-18 03:21:55'), 'ups': 3, 'text': 'MY  ada shitcorn is printing'}, {'time': Timestamp('2021-03-18 03:20:18'), 'ups': 5, 'text': \"Rolls Royce euphoria engaged.  AMC doesn't give a single fuck about being diluted over 75%, maybe RYCEY isn't going to care either.  $15 or bust LFG.\"}, {'time': Timestamp('2021-03-18 03:19:42'), 'ups': 2, 'text': 'FedEx for their earnings tomorrow. They’ve been killing in the COVID year'}, {'time': Timestamp('2021-03-18 03:07:20'), 'ups': -9, 'text': 'Splitting our ammo between AMC and GME is beyond retarded. We should all just focus on one stock to maximize upcoming tendies.'}, {'time': Timestamp('2021-03-18 03:06:30'), 'ups': 28, 'text': 'I honestly dont have a clue wtf to do in this market. Lol'}, {'time': Timestamp('2021-03-18 03:02:53'), 'ups': 17, 'text': 'UWMC is throttling up on the launchpad :rocket:'}, {'time': Timestamp('2021-03-18 02:56:55'), 'ups': 4, 'text': 'TSLA 750 tomorrow for the love of all that is TEKNO :watermelon:'}, {'time': Timestamp('2021-03-18 02:49:43'), 'ups': 7, 'text': 'Weedstock running'}, {'time': Timestamp('2021-03-18 02:48:00'), 'ups': 30, 'text': 'GME tards asking talking about GME under RC’s tweet of his dead dad :neutral face:'}, {'time': Timestamp('2021-03-18 02:44:26'), 'ups': 12, 'text': 'That $PLUG dip sure was nice.'}, {'time': Timestamp('2021-03-18 02:42:24'), 'ups': 14, 'text': 'Thoughts on tomorrow? Will the party continue on?'}, {'time': Timestamp('2021-03-18 02:40:13'), 'ups': 23, 'text': 'GME gang be like - we survive another day. :grinning face:'}, {'time': Timestamp('2021-03-18 02:35:57'), 'ups': -8, 'text': 'Why does it take a few days for my money to settle in Webull after selling option?'}, {'time': Timestamp('2021-03-18 02:35:13'), 'ups': 1, 'text': 'TLRY mooning AH baby :rocket:'}, {'time': Timestamp('2021-03-18 02:32:28'), 'ups': 17, 'text': 'AMC IS THE KING OF POWERHOUR'}, {'time': Timestamp('2021-03-18 02:29:57'), 'ups': 24, 'text': 'Yo UMWC actually up to something.  Some tall green candles today.'}, {'time': Timestamp('2021-03-18 02:29:50'), 'ups': 12, 'text': 'First you got plug getting exposed.\\n\\nNow VLDR is getting hammered for fucked up accounting practices.\\n\\nIt’s almost like this over valued clown market breeds corruption.\\n\\nEvery company can just look at what Elon and crew have gotten away with and say, “hey why not us too?”'}, {'time': Timestamp('2021-03-18 02:28:32'), 'ups': 11, 'text': 'Uwmc adding to gains after hours ~5%'}, {'time': Timestamp('2021-03-18 02:28:15'), 'ups': 10, 'text': 'AMC BABY!'}, {'time': Timestamp('2021-03-18 02:27:38'), 'ups': 5, 'text': 'Dude who recommended ASO. Thank you.'}, {'time': Timestamp('2021-03-18 02:27:34'), 'ups': 3, 'text': 'I don’t have good feeling about tomorrow'}, {'time': Timestamp('2021-03-18 02:26:53'), 'ups': 9, 'text': 'Tomorrow- Open red. Dip. Moon'}, {'time': Timestamp('2021-03-18 02:26:44'), 'ups': 3, 'text': \"VXX puts are printing. Too bad I didn't do FDs.\"}, {'time': Timestamp('2021-03-18 02:26:28'), 'ups': 6, 'text': 'Always important to remember to never forget, in the wise words of Wu Tang C.R.E.A.M.'}, {'time': Timestamp('2021-03-18 02:25:05'), 'ups': -1, 'text': 'Hope y’all sold your calls eod'}, {'time': Timestamp('2021-03-18 02:23:52'), 'ups': 9, 'text': 'AMC RUNNING'}, {'time': Timestamp('2021-03-18 02:23:42'), 'ups': 1, 'text': 'JPOW to the moon :crescent moon: :rocket:'}, {'time': Timestamp('2021-03-18 02:19:42'), 'ups': 3, 'text': 'I missed it, what did Jpow say with all his tools?'}, {'time': Timestamp('2021-03-18 02:19:27'), 'ups': 26, 'text': 'How is PLTR being held down? Should be ripping! Hopefully we start testing $30 next week.'}, {'time': Timestamp('2021-03-18 02:19:21'), 'ups': 2, 'text': 'y sndl not drilling not the earths core?'}, {'time': Timestamp('2021-03-18 02:18:58'), 'ups': 25, 'text': 'UWMC climbing after hours.'}, {'time': Timestamp('2021-03-18 02:18:07'), 'ups': -8, 'text': 'G\\n@\\nM\\nE\\nS\\nT\\nO\\nP\\n\\nE\\nN\\nD\\nE\\nD\\n\\nI\\nN\\n\\nT\\nH\\nE\\n\\nG\\nR\\nE\\nE\\nN\\n\\nD\\nI\\nL\\nD\\nO\\n\\nR\\nE\\nG\\nI\\nO\\nN'}, {'time': Timestamp('2021-03-18 02:18:02'), 'ups': 7, 'text': 'When are SNDL earnings?'}, {'time': Timestamp('2021-03-18 02:17:47'), 'ups': 6, 'text': \"At the craps table.... Autists : let's go $50 call buy a 6 buy an 8, $100 on the field $20 match for the good guys $20 on the horn fuck it color me up \\nRetards : I think I got this idk fuck it $1,000 on the field\\nApes : hey daddy is that like a pool table for dices?\"}, {'time': Timestamp('2021-03-18 02:17:25'), 'ups': 31, 'text': 'As the trading day ends, all I have to say is fuck the bastard who killed those 8 people. Hope you get actual apes butt fucking you in hell'}, {'time': Timestamp('2021-03-18 02:17:09'), 'ups': 3, 'text': 'It\\'s really obvious that you\\'re a giant weenie when you handwring about inflation. \"But what about the price of groceries?!\" What about it? Fuck you--you\\'ll pay it.'}, {'time': Timestamp('2021-03-18 02:16:52'), 'ups': 2, 'text': \"Okay, what negative information am I missing on PYR? I've been researching for days, and can't find the catch, if there is one.\\n\\nThe closest I've found is that their competitors may be able to use high heat electric ovens and not plasma torches to to a similar, but less complete job of eradicating waste. But one that might be acceptable to meet environmental regulations in the near-term.\"}, {'time': Timestamp('2021-03-18 02:16:41'), 'ups': 2, 'text': \"Alright guys, Lordstown issued their 2020 4Q press release but the SEC filing is still missing in action. 4:30 investor call. \\n\\nI admit I was surprised to learn they had 630 million in cash and cash equivalents at 12/31/20, but was unsurprised to see they are projecting at least 470 - 510 million in expenses this year. \\n\\nThey are looking for a loan, but they ain't gonna get any :face with tongue: and how would investors respond to another huge stock issuance?\\n\\nIt's going down! \\nI look forward to the call.\"}]"
     ]
    },
    {
     "name": "stdout",
     "output_type": "stream",
     "text": [
      "\n"
     ]
    },
    {
     "data": {
      "text/html": [
       "<div>\n",
       "<style scoped>\n",
       "    .dataframe tbody tr th:only-of-type {\n",
       "        vertical-align: middle;\n",
       "    }\n",
       "\n",
       "    .dataframe tbody tr th {\n",
       "        vertical-align: top;\n",
       "    }\n",
       "\n",
       "    .dataframe thead th {\n",
       "        text-align: right;\n",
       "    }\n",
       "</style>\n",
       "<table border=\"1\" class=\"dataframe\">\n",
       "  <thead>\n",
       "    <tr style=\"text-align: right;\">\n",
       "      <th></th>\n",
       "      <th>2021-03-18 09:25:23</th>\n",
       "      <th>2021-03-18 09:25:23_</th>\n",
       "      <th>2021-03-18 09:25:23</th>\n",
       "      <th>2021-03-18 09:25:23_</th>\n",
       "    </tr>\n",
       "  </thead>\n",
       "  <tbody>\n",
       "    <tr>\n",
       "      <th>AMC</th>\n",
       "      <td>8</td>\n",
       "      <td>8</td>\n",
       "      <td>8</td>\n",
       "      <td>8</td>\n",
       "    </tr>\n",
       "    <tr>\n",
       "      <th>UWMC</th>\n",
       "      <td>4</td>\n",
       "      <td>4</td>\n",
       "      <td>4</td>\n",
       "      <td>4</td>\n",
       "    </tr>\n",
       "    <tr>\n",
       "      <th>GME</th>\n",
       "      <td>4</td>\n",
       "      <td>4</td>\n",
       "      <td>4</td>\n",
       "      <td>4</td>\n",
       "    </tr>\n",
       "    <tr>\n",
       "      <th>BB</th>\n",
       "      <td>3</td>\n",
       "      <td>3</td>\n",
       "      <td>3</td>\n",
       "      <td>3</td>\n",
       "    </tr>\n",
       "    <tr>\n",
       "      <th>PLTR</th>\n",
       "      <td>2</td>\n",
       "      <td>2</td>\n",
       "      <td>2</td>\n",
       "      <td>2</td>\n",
       "    </tr>\n",
       "    <tr>\n",
       "      <th>SNDL</th>\n",
       "      <td>2</td>\n",
       "      <td>2</td>\n",
       "      <td>2</td>\n",
       "      <td>2</td>\n",
       "    </tr>\n",
       "    <tr>\n",
       "      <th>PLUG</th>\n",
       "      <td>2</td>\n",
       "      <td>2</td>\n",
       "      <td>2</td>\n",
       "      <td>2</td>\n",
       "    </tr>\n",
       "    <tr>\n",
       "      <th>DOW</th>\n",
       "      <td>1</td>\n",
       "      <td>1</td>\n",
       "      <td>1</td>\n",
       "      <td>1</td>\n",
       "    </tr>\n",
       "    <tr>\n",
       "      <th>THE</th>\n",
       "      <td>1</td>\n",
       "      <td>1</td>\n",
       "      <td>1</td>\n",
       "      <td>1</td>\n",
       "    </tr>\n",
       "    <tr>\n",
       "      <th>US</th>\n",
       "      <td>1</td>\n",
       "      <td>1</td>\n",
       "      <td>1</td>\n",
       "      <td>1</td>\n",
       "    </tr>\n",
       "  </tbody>\n",
       "</table>\n",
       "</div>"
      ],
      "text/plain": [
       "      2021-03-18 09:25:23  2021-03-18 09:25:23_  2021-03-18 09:25:23  \\\n",
       "AMC                     8                     8                    8   \n",
       "UWMC                    4                     4                    4   \n",
       "GME                     4                     4                    4   \n",
       "BB                      3                     3                    3   \n",
       "PLTR                    2                     2                    2   \n",
       "SNDL                    2                     2                    2   \n",
       "PLUG                    2                     2                    2   \n",
       "DOW                     1                     1                    1   \n",
       "THE                     1                     1                    1   \n",
       "US                      1                     1                    1   \n",
       "\n",
       "      2021-03-18 09:25:23_  \n",
       "AMC                      8  \n",
       "UWMC                     4  \n",
       "GME                      4  \n",
       "BB                       3  \n",
       "PLTR                     2  \n",
       "SNDL                     2  \n",
       "PLUG                     2  \n",
       "DOW                      1  \n",
       "THE                      1  \n",
       "US                       1  "
      ]
     },
     "metadata": {},
     "output_type": "display_data"
    },
    {
     "data": {
      "text/plain": [
       "True"
      ]
     },
     "metadata": {},
     "output_type": "display_data"
    },
    {
     "name": "stdout",
     "output_type": "stream",
     "text": [
      "[{'time': Timestamp('2021-03-18 09:25:23'), 'ups': 2, 'text': 'lol why do i have nio 70c and why is it green'}, {'time': Timestamp('2021-03-18 08:13:55'), 'ups': 2, 'text': 'why doesn’t BB just rebrand?'}, {'time': Timestamp('2021-03-18 07:56:09'), 'ups': 2, 'text': 'Holy moly'}, {'time': Timestamp('2021-03-18 06:35:31'), 'ups': 2, 'text': 'My hedgefucks my position is 42069 shares at 3.14'}, {'time': Timestamp('2021-03-18 05:55:07'), 'ups': 4, 'text': '# DOW futures just hit the 92-year resistance line - 33100!'}, {'time': Timestamp('2021-03-18 05:32:28'), 'ups': -5, 'text': \"Let's gooooooooooo  PLTR! UWMC! FSR! AMC! PLUG (sure why not, picked up this morn)! and of course GME\\n\\n&amp;#x200B;\\n\\nbeen bag holding weed stocks since that spike... is it time to just get rid of em? only 2.5k total invested with all of the above.\"}, {'time': Timestamp('2021-03-18 05:26:31'), 'ups': 1, 'text': 'I love you movie monke’s'}, {'time': Timestamp('2021-03-18 05:14:35'), 'ups': -6, 'text': \"As a company they have gotten better but don't place your bets on it. Not financial advice. I might actually be retarded and it took getting married and having an honest wife to point it out to me.\"}, {'time': Timestamp('2021-03-18 04:43:24'), 'ups': 9, 'text': \"Buy calls in $EBAY.\\n\\nMy store averages about $1500 a week after shipping and fees and most of that happens over the weekend. I did $1000 just today.\\n\\nPeople are spending their fucking stimulus money like money is a carcinogen. \\n\\nAlso, buy some $TGT to save my calls please. They're probably catching some windfall also.\"}, {'time': Timestamp('2021-03-18 04:35:22'), 'ups': -6, 'text': \"Has anybody heard of SHOP? Shopify? Why the fuk is it over a thousand dollars? Cramer's pushing it.\"}, {'time': Timestamp('2021-03-18 04:34:49'), 'ups': 4, 'text': 'March 19\\n\\nAMC cinemas reopening\\n\\nGrab popcorn and drinks to watch Godzilla vs Kong\\n\\nWatch $AMC fly :rocket: \\n\\nMonke :gorilla:'}, {'time': Timestamp('2021-03-18 04:33:10'), 'ups': 2, 'text': 'Should I sell my AMC at my current 6% gain or hold to the moon? I have bad feelings in my loins about tomorrow'}, {'time': Timestamp('2021-03-18 04:32:49'), 'ups': 10, 'text': 'I’ve come to terms with the fact that my children will inherit my BB stocks'}, {'time': Timestamp('2021-03-18 04:30:10'), 'ups': 9, 'text': 'Have you ever invested in a ticker that matches your initials?'}, {'time': Timestamp('2021-03-18 04:24:08'), 'ups': 12, 'text': 'Get in UWMC before it’s too late apes :rocket:'}, {'time': Timestamp('2021-03-18 04:21:06'), 'ups': 2, 'text': \"Do you think Xiaomi will dip more, and to wait for a dip, or buy now? I believe in company even though it's banned on US stock market currently, but fuck them.\\n\\n They provide quality products for by far the best price considering the specs. I even liked riding their electric scooters, not sure what the quality of their other electrical products is. Current market cap about 70 billion USD, I think there's still a lot of room to improve it.\"}, {'time': Timestamp('2021-03-18 04:05:27'), 'ups': 4, 'text': 'Opinion on yolo on apha and tlry pre merger?'}, {'time': Timestamp('2021-03-18 04:03:44'), 'ups': 3, 'text': 'Holy shit bears are so tucked'}, {'time': Timestamp('2021-03-18 03:58:45'), 'ups': -2, 'text': 'Mfers acting like they’re investing savants but can’t accept that people can make money off GME. What’s it like to lose money everyday?'}, {'time': Timestamp('2021-03-18 03:44:50'), 'ups': 6, 'text': 'AMD'}, {'time': Timestamp('2021-03-18 03:43:47'), 'ups': 9, 'text': 'All my homies hate bonds'}, {'time': Timestamp('2021-03-18 03:43:26'), 'ups': 2, 'text': 'SNDL'}, {'time': Timestamp('2021-03-18 03:39:54'), 'ups': 8, 'text': '$BB is going to sit within the $10-12 range forever it feels'}, {'time': Timestamp('2021-03-18 03:36:40'), 'ups': 3, 'text': 'If you aren’t buying $X you’re gonna miss out on some free tendies, perfect cup on the 3 month it’s bound to explode. Been telling y’all, $X gon give it to ya.'}, {'time': Timestamp('2021-03-18 03:23:51'), 'ups': 3, 'text': 'Today’s got me too amped up'}, {'time': Timestamp('2021-03-18 03:23:08'), 'ups': 5, 'text': 'GRWG so underrated. Home depot of weed supplies'}, {'time': Timestamp('2021-03-18 03:21:55'), 'ups': 3, 'text': 'MY  ada shitcorn is printing'}, {'time': Timestamp('2021-03-18 03:20:18'), 'ups': 7, 'text': \"Rolls Royce euphoria engaged.  AMC doesn't give a single fuck about being diluted over 75%, maybe RYCEY isn't going to care either.  $15 or bust LFG.\"}, {'time': Timestamp('2021-03-18 03:19:42'), 'ups': 2, 'text': 'FedEx for their earnings tomorrow. They’ve been killing in the COVID year'}, {'time': Timestamp('2021-03-18 03:07:20'), 'ups': -10, 'text': 'Splitting our ammo between AMC and GME is beyond retarded. We should all just focus on one stock to maximize upcoming tendies.'}, {'time': Timestamp('2021-03-18 03:06:30'), 'ups': 28, 'text': 'I honestly dont have a clue wtf to do in this market. Lol'}, {'time': Timestamp('2021-03-18 03:02:53'), 'ups': 17, 'text': 'UWMC is throttling up on the launchpad :rocket:'}, {'time': Timestamp('2021-03-18 02:56:55'), 'ups': 4, 'text': 'TSLA 750 tomorrow for the love of all that is TEKNO :watermelon:'}, {'time': Timestamp('2021-03-18 02:49:43'), 'ups': 7, 'text': 'Weedstock running'}, {'time': Timestamp('2021-03-18 02:48:00'), 'ups': 31, 'text': 'GME tards asking talking about GME under RC’s tweet of his dead dad :neutral face:'}, {'time': Timestamp('2021-03-18 02:44:26'), 'ups': 12, 'text': 'That $PLUG dip sure was nice.'}, {'time': Timestamp('2021-03-18 02:42:24'), 'ups': 13, 'text': 'Thoughts on tomorrow? Will the party continue on?'}, {'time': Timestamp('2021-03-18 02:40:13'), 'ups': 20, 'text': 'GME gang be like - we survive another day. :grinning face:'}, {'time': Timestamp('2021-03-18 02:35:57'), 'ups': -7, 'text': 'Why does it take a few days for my money to settle in Webull after selling option?'}, {'time': Timestamp('2021-03-18 02:35:13'), 'ups': -1, 'text': 'TLRY mooning AH baby :rocket:'}, {'time': Timestamp('2021-03-18 02:32:28'), 'ups': 16, 'text': 'AMC IS THE KING OF POWERHOUR'}, {'time': Timestamp('2021-03-18 02:29:57'), 'ups': 24, 'text': 'Yo UMWC actually up to something.  Some tall green candles today.'}, {'time': Timestamp('2021-03-18 02:29:50'), 'ups': 12, 'text': 'First you got plug getting exposed.\\n\\nNow VLDR is getting hammered for fucked up accounting practices.\\n\\nIt’s almost like this over valued clown market breeds corruption.\\n\\nEvery company can just look at what Elon and crew have gotten away with and say, “hey why not us too?”'}, {'time': Timestamp('2021-03-18 02:28:32'), 'ups': 9, 'text': 'Uwmc adding to gains after hours ~5%'}, {'time': Timestamp('2021-03-18 02:28:15'), 'ups': 11, 'text': 'AMC BABY!'}, {'time': Timestamp('2021-03-18 02:27:38'), 'ups': 6, 'text': 'Dude who recommended ASO. Thank you.'}, {'time': Timestamp('2021-03-18 02:27:34'), 'ups': 2, 'text': 'I don’t have good feeling about tomorrow'}, {'time': Timestamp('2021-03-18 02:26:53'), 'ups': 11, 'text': 'Tomorrow- Open red. Dip. Moon'}, {'time': Timestamp('2021-03-18 02:26:44'), 'ups': 3, 'text': \"VXX puts are printing. Too bad I didn't do FDs.\"}, {'time': Timestamp('2021-03-18 02:26:28'), 'ups': 6, 'text': 'Always important to remember to never forget, in the wise words of Wu Tang C.R.E.A.M.'}, {'time': Timestamp('2021-03-18 02:25:05'), 'ups': -1, 'text': 'Hope y’all sold your calls eod'}, {'time': Timestamp('2021-03-18 02:23:52'), 'ups': 9, 'text': 'AMC RUNNING'}, {'time': Timestamp('2021-03-18 02:23:42'), 'ups': 1, 'text': 'JPOW to the moon :crescent moon: :rocket:'}, {'time': Timestamp('2021-03-18 02:19:42'), 'ups': 3, 'text': 'I missed it, what did Jpow say with all his tools?'}, {'time': Timestamp('2021-03-18 02:19:27'), 'ups': 25, 'text': 'How is PLTR being held down? Should be ripping! Hopefully we start testing $30 next week.'}, {'time': Timestamp('2021-03-18 02:19:21'), 'ups': 2, 'text': 'y sndl not drilling not the earths core?'}, {'time': Timestamp('2021-03-18 02:18:58'), 'ups': 26, 'text': 'UWMC climbing after hours.'}, {'time': Timestamp('2021-03-18 02:18:07'), 'ups': -4, 'text': 'G\\n@\\nM\\nE\\nS\\nT\\nO\\nP\\n\\nE\\nN\\nD\\nE\\nD\\n\\nI\\nN\\n\\nT\\nH\\nE\\n\\nG\\nR\\nE\\nE\\nN\\n\\nD\\nI\\nL\\nD\\nO\\n\\nR\\nE\\nG\\nI\\nO\\nN'}, {'time': Timestamp('2021-03-18 02:18:02'), 'ups': 5, 'text': 'When are SNDL earnings?'}, {'time': Timestamp('2021-03-18 02:17:47'), 'ups': 7, 'text': \"At the craps table.... Autists : let's go $50 call buy a 6 buy an 8, $100 on the field $20 match for the good guys $20 on the horn fuck it color me up \\nRetards : I think I got this idk fuck it $1,000 on the field\\nApes : hey daddy is that like a pool table for dices?\"}, {'time': Timestamp('2021-03-18 02:17:25'), 'ups': 34, 'text': 'As the trading day ends, all I have to say is fuck the bastard who killed those 8 people. Hope you get actual apes butt fucking you in hell'}, {'time': Timestamp('2021-03-18 02:17:09'), 'ups': 3, 'text': 'It\\'s really obvious that you\\'re a giant weenie when you handwring about inflation. \"But what about the price of groceries?!\" What about it? Fuck you--you\\'ll pay it.'}, {'time': Timestamp('2021-03-18 02:16:52'), 'ups': 2, 'text': \"Okay, what negative information am I missing on PYR? I've been researching for days, and can't find the catch, if there is one.\\n\\nThe closest I've found is that their competitors may be able to use high heat electric ovens and not plasma torches to to a similar, but less complete job of eradicating waste. But one that might be acceptable to meet environmental regulations in the near-term.\"}, {'time': Timestamp('2021-03-18 02:16:41'), 'ups': 2, 'text': \"Alright guys, Lordstown issued their 2020 4Q press release but the SEC filing is still missing in action. 4:30 investor call. \\n\\nI admit I was surprised to learn they had 630 million in cash and cash equivalents at 12/31/20, but was unsurprised to see they are projecting at least 470 - 510 million in expenses this year. \\n\\nThey are looking for a loan, but they ain't gonna get any :face with tongue: and how would investors respond to another huge stock issuance?\\n\\nIt's going down! \\nI look forward to the call.\"}]"
     ]
    },
    {
     "name": "stdout",
     "output_type": "stream",
     "text": [
      "\n"
     ]
    },
    {
     "data": {
      "text/html": [
       "<div>\n",
       "<style scoped>\n",
       "    .dataframe tbody tr th:only-of-type {\n",
       "        vertical-align: middle;\n",
       "    }\n",
       "\n",
       "    .dataframe tbody tr th {\n",
       "        vertical-align: top;\n",
       "    }\n",
       "\n",
       "    .dataframe thead th {\n",
       "        text-align: right;\n",
       "    }\n",
       "</style>\n",
       "<table border=\"1\" class=\"dataframe\">\n",
       "  <thead>\n",
       "    <tr style=\"text-align: right;\">\n",
       "      <th></th>\n",
       "      <th>2021-03-18 09:25:23</th>\n",
       "      <th>2021-03-18 09:25:23_</th>\n",
       "      <th>2021-03-18 09:25:23</th>\n",
       "      <th>2021-03-18 09:25:23_</th>\n",
       "      <th>2021-03-18 09:25:23</th>\n",
       "    </tr>\n",
       "  </thead>\n",
       "  <tbody>\n",
       "    <tr>\n",
       "      <th>AMC</th>\n",
       "      <td>8</td>\n",
       "      <td>8</td>\n",
       "      <td>8</td>\n",
       "      <td>8</td>\n",
       "      <td>8</td>\n",
       "    </tr>\n",
       "    <tr>\n",
       "      <th>UWMC</th>\n",
       "      <td>4</td>\n",
       "      <td>4</td>\n",
       "      <td>4</td>\n",
       "      <td>4</td>\n",
       "      <td>4</td>\n",
       "    </tr>\n",
       "    <tr>\n",
       "      <th>GME</th>\n",
       "      <td>4</td>\n",
       "      <td>4</td>\n",
       "      <td>4</td>\n",
       "      <td>4</td>\n",
       "      <td>4</td>\n",
       "    </tr>\n",
       "    <tr>\n",
       "      <th>BB</th>\n",
       "      <td>3</td>\n",
       "      <td>3</td>\n",
       "      <td>3</td>\n",
       "      <td>3</td>\n",
       "      <td>3</td>\n",
       "    </tr>\n",
       "    <tr>\n",
       "      <th>PLTR</th>\n",
       "      <td>2</td>\n",
       "      <td>2</td>\n",
       "      <td>2</td>\n",
       "      <td>2</td>\n",
       "      <td>2</td>\n",
       "    </tr>\n",
       "    <tr>\n",
       "      <th>SNDL</th>\n",
       "      <td>2</td>\n",
       "      <td>2</td>\n",
       "      <td>2</td>\n",
       "      <td>2</td>\n",
       "      <td>2</td>\n",
       "    </tr>\n",
       "    <tr>\n",
       "      <th>PLUG</th>\n",
       "      <td>2</td>\n",
       "      <td>2</td>\n",
       "      <td>2</td>\n",
       "      <td>2</td>\n",
       "      <td>2</td>\n",
       "    </tr>\n",
       "    <tr>\n",
       "      <th>DOW</th>\n",
       "      <td>1</td>\n",
       "      <td>1</td>\n",
       "      <td>1</td>\n",
       "      <td>1</td>\n",
       "      <td>1</td>\n",
       "    </tr>\n",
       "    <tr>\n",
       "      <th>THE</th>\n",
       "      <td>1</td>\n",
       "      <td>1</td>\n",
       "      <td>1</td>\n",
       "      <td>1</td>\n",
       "      <td>1</td>\n",
       "    </tr>\n",
       "    <tr>\n",
       "      <th>US</th>\n",
       "      <td>1</td>\n",
       "      <td>1</td>\n",
       "      <td>1</td>\n",
       "      <td>1</td>\n",
       "      <td>1</td>\n",
       "    </tr>\n",
       "  </tbody>\n",
       "</table>\n",
       "</div>"
      ],
      "text/plain": [
       "      2021-03-18 09:25:23  2021-03-18 09:25:23_  2021-03-18 09:25:23  \\\n",
       "AMC                     8                     8                    8   \n",
       "UWMC                    4                     4                    4   \n",
       "GME                     4                     4                    4   \n",
       "BB                      3                     3                    3   \n",
       "PLTR                    2                     2                    2   \n",
       "SNDL                    2                     2                    2   \n",
       "PLUG                    2                     2                    2   \n",
       "DOW                     1                     1                    1   \n",
       "THE                     1                     1                    1   \n",
       "US                      1                     1                    1   \n",
       "\n",
       "      2021-03-18 09:25:23_  2021-03-18 09:25:23  \n",
       "AMC                      8                    8  \n",
       "UWMC                     4                    4  \n",
       "GME                      4                    4  \n",
       "BB                       3                    3  \n",
       "PLTR                     2                    2  \n",
       "SNDL                     2                    2  \n",
       "PLUG                     2                    2  \n",
       "DOW                      1                    1  \n",
       "THE                      1                    1  \n",
       "US                       1                    1  "
      ]
     },
     "metadata": {},
     "output_type": "display_data"
    },
    {
     "data": {
      "text/plain": [
       "True"
      ]
     },
     "metadata": {},
     "output_type": "display_data"
    },
    {
     "ename": "ValueError",
     "evalue": "Duplicate column names found: ['2021-03-18 09:25:23', '2021-03-18 09:25:23_', '2021-03-18 09:25:23', '2021-03-18 09:25:23_', '2021-03-18 09:25:23', 'tot']",
     "output_type": "error",
     "traceback": [
      "\u001b[0;31m---------------------------------------------------------------------------\u001b[0m",
      "\u001b[0;31mValueError\u001b[0m                                Traceback (most recent call last)",
      "\u001b[0;32m<ipython-input-41-b0402ddd7f8b>\u001b[0m in \u001b[0;36m<module>\u001b[0;34m\u001b[0m\n\u001b[1;32m     14\u001b[0m \u001b[0;34m\u001b[0m\u001b[0m\n\u001b[1;32m     15\u001b[0m \u001b[0mfname\u001b[0m \u001b[0;34m=\u001b[0m \u001b[0;34m'wsb files/tick_freq '\u001b[0m \u001b[0;34m+\u001b[0m \u001b[0mtime_name\u001b[0m\u001b[0;34m(\u001b[0m\u001b[0mtime\u001b[0m\u001b[0;34m.\u001b[0m\u001b[0mtime\u001b[0m\u001b[0;34m(\u001b[0m\u001b[0;34m)\u001b[0m\u001b[0;34m)\u001b[0m \u001b[0;34m+\u001b[0m \u001b[0;34m'.parquet'\u001b[0m\u001b[0;34m\u001b[0m\u001b[0;34m\u001b[0m\u001b[0m\n\u001b[0;32m---> 16\u001b[0;31m \u001b[0mfulldf\u001b[0m\u001b[0;34m.\u001b[0m\u001b[0mto_parquet\u001b[0m\u001b[0;34m(\u001b[0m\u001b[0mfname\u001b[0m\u001b[0;34m)\u001b[0m\u001b[0;34m\u001b[0m\u001b[0;34m\u001b[0m\u001b[0m\n\u001b[0m",
      "\u001b[0;32m~/.local/lib/python3.8/site-packages/pandas/util/_decorators.py\u001b[0m in \u001b[0;36mwrapper\u001b[0;34m(*args, **kwargs)\u001b[0m\n\u001b[1;32m    197\u001b[0m                 \u001b[0;32melse\u001b[0m\u001b[0;34m:\u001b[0m\u001b[0;34m\u001b[0m\u001b[0;34m\u001b[0m\u001b[0m\n\u001b[1;32m    198\u001b[0m                     \u001b[0mkwargs\u001b[0m\u001b[0;34m[\u001b[0m\u001b[0mnew_arg_name\u001b[0m\u001b[0;34m]\u001b[0m \u001b[0;34m=\u001b[0m \u001b[0mnew_arg_value\u001b[0m\u001b[0;34m\u001b[0m\u001b[0;34m\u001b[0m\u001b[0m\n\u001b[0;32m--> 199\u001b[0;31m             \u001b[0;32mreturn\u001b[0m \u001b[0mfunc\u001b[0m\u001b[0;34m(\u001b[0m\u001b[0;34m*\u001b[0m\u001b[0margs\u001b[0m\u001b[0;34m,\u001b[0m \u001b[0;34m**\u001b[0m\u001b[0mkwargs\u001b[0m\u001b[0;34m)\u001b[0m\u001b[0;34m\u001b[0m\u001b[0;34m\u001b[0m\u001b[0m\n\u001b[0m\u001b[1;32m    200\u001b[0m \u001b[0;34m\u001b[0m\u001b[0m\n\u001b[1;32m    201\u001b[0m         \u001b[0;32mreturn\u001b[0m \u001b[0mcast\u001b[0m\u001b[0;34m(\u001b[0m\u001b[0mF\u001b[0m\u001b[0;34m,\u001b[0m \u001b[0mwrapper\u001b[0m\u001b[0;34m)\u001b[0m\u001b[0;34m\u001b[0m\u001b[0;34m\u001b[0m\u001b[0m\n",
      "\u001b[0;32m~/.local/lib/python3.8/site-packages/pandas/core/frame.py\u001b[0m in \u001b[0;36mto_parquet\u001b[0;34m(self, path, engine, compression, index, partition_cols, storage_options, **kwargs)\u001b[0m\n\u001b[1;32m   2453\u001b[0m         \u001b[0;32mfrom\u001b[0m \u001b[0mpandas\u001b[0m\u001b[0;34m.\u001b[0m\u001b[0mio\u001b[0m\u001b[0;34m.\u001b[0m\u001b[0mparquet\u001b[0m \u001b[0;32mimport\u001b[0m \u001b[0mto_parquet\u001b[0m\u001b[0;34m\u001b[0m\u001b[0;34m\u001b[0m\u001b[0m\n\u001b[1;32m   2454\u001b[0m \u001b[0;34m\u001b[0m\u001b[0m\n\u001b[0;32m-> 2455\u001b[0;31m         return to_parquet(\n\u001b[0m\u001b[1;32m   2456\u001b[0m             \u001b[0mself\u001b[0m\u001b[0;34m,\u001b[0m\u001b[0;34m\u001b[0m\u001b[0;34m\u001b[0m\u001b[0m\n\u001b[1;32m   2457\u001b[0m             \u001b[0mpath\u001b[0m\u001b[0;34m,\u001b[0m\u001b[0;34m\u001b[0m\u001b[0;34m\u001b[0m\u001b[0m\n",
      "\u001b[0;32m~/.local/lib/python3.8/site-packages/pandas/io/parquet.py\u001b[0m in \u001b[0;36mto_parquet\u001b[0;34m(df, path, engine, compression, index, storage_options, partition_cols, **kwargs)\u001b[0m\n\u001b[1;32m    388\u001b[0m     \u001b[0mpath_or_buf\u001b[0m\u001b[0;34m:\u001b[0m \u001b[0mFilePathOrBuffer\u001b[0m \u001b[0;34m=\u001b[0m \u001b[0mio\u001b[0m\u001b[0;34m.\u001b[0m\u001b[0mBytesIO\u001b[0m\u001b[0;34m(\u001b[0m\u001b[0;34m)\u001b[0m \u001b[0;32mif\u001b[0m \u001b[0mpath\u001b[0m \u001b[0;32mis\u001b[0m \u001b[0;32mNone\u001b[0m \u001b[0;32melse\u001b[0m \u001b[0mpath\u001b[0m\u001b[0;34m\u001b[0m\u001b[0;34m\u001b[0m\u001b[0m\n\u001b[1;32m    389\u001b[0m \u001b[0;34m\u001b[0m\u001b[0m\n\u001b[0;32m--> 390\u001b[0;31m     impl.write(\n\u001b[0m\u001b[1;32m    391\u001b[0m         \u001b[0mdf\u001b[0m\u001b[0;34m,\u001b[0m\u001b[0;34m\u001b[0m\u001b[0;34m\u001b[0m\u001b[0m\n\u001b[1;32m    392\u001b[0m         \u001b[0mpath_or_buf\u001b[0m\u001b[0;34m,\u001b[0m\u001b[0;34m\u001b[0m\u001b[0;34m\u001b[0m\u001b[0m\n",
      "\u001b[0;32m~/.local/lib/python3.8/site-packages/pandas/io/parquet.py\u001b[0m in \u001b[0;36mwrite\u001b[0;34m(self, df, path, compression, index, storage_options, partition_cols, **kwargs)\u001b[0m\n\u001b[1;32m    150\u001b[0m             \u001b[0mfrom_pandas_kwargs\u001b[0m\u001b[0;34m[\u001b[0m\u001b[0;34m\"preserve_index\"\u001b[0m\u001b[0;34m]\u001b[0m \u001b[0;34m=\u001b[0m \u001b[0mindex\u001b[0m\u001b[0;34m\u001b[0m\u001b[0;34m\u001b[0m\u001b[0m\n\u001b[1;32m    151\u001b[0m \u001b[0;34m\u001b[0m\u001b[0m\n\u001b[0;32m--> 152\u001b[0;31m         \u001b[0mtable\u001b[0m \u001b[0;34m=\u001b[0m \u001b[0mself\u001b[0m\u001b[0;34m.\u001b[0m\u001b[0mapi\u001b[0m\u001b[0;34m.\u001b[0m\u001b[0mTable\u001b[0m\u001b[0;34m.\u001b[0m\u001b[0mfrom_pandas\u001b[0m\u001b[0;34m(\u001b[0m\u001b[0mdf\u001b[0m\u001b[0;34m,\u001b[0m \u001b[0;34m**\u001b[0m\u001b[0mfrom_pandas_kwargs\u001b[0m\u001b[0;34m)\u001b[0m\u001b[0;34m\u001b[0m\u001b[0;34m\u001b[0m\u001b[0m\n\u001b[0m\u001b[1;32m    153\u001b[0m \u001b[0;34m\u001b[0m\u001b[0m\n\u001b[1;32m    154\u001b[0m         path_or_handle, handles, kwargs[\"filesystem\"] = _get_path_or_handle(\n",
      "\u001b[0;32m~/.local/lib/python3.8/site-packages/pyarrow/table.pxi\u001b[0m in \u001b[0;36mpyarrow.lib.Table.from_pandas\u001b[0;34m()\u001b[0m\n",
      "\u001b[0;32m~/.local/lib/python3.8/site-packages/pyarrow/pandas_compat.py\u001b[0m in \u001b[0;36mdataframe_to_arrays\u001b[0;34m(df, schema, preserve_index, nthreads, columns, safe)\u001b[0m\n\u001b[1;32m    547\u001b[0m      \u001b[0mindex_columns\u001b[0m\u001b[0;34m,\u001b[0m\u001b[0;34m\u001b[0m\u001b[0;34m\u001b[0m\u001b[0m\n\u001b[1;32m    548\u001b[0m      \u001b[0mcolumns_to_convert\u001b[0m\u001b[0;34m,\u001b[0m\u001b[0;34m\u001b[0m\u001b[0;34m\u001b[0m\u001b[0m\n\u001b[0;32m--> 549\u001b[0;31m      \u001b[0mconvert_fields\u001b[0m\u001b[0;34m)\u001b[0m \u001b[0;34m=\u001b[0m \u001b[0m_get_columns_to_convert\u001b[0m\u001b[0;34m(\u001b[0m\u001b[0mdf\u001b[0m\u001b[0;34m,\u001b[0m \u001b[0mschema\u001b[0m\u001b[0;34m,\u001b[0m \u001b[0mpreserve_index\u001b[0m\u001b[0;34m,\u001b[0m\u001b[0;34m\u001b[0m\u001b[0;34m\u001b[0m\u001b[0m\n\u001b[0m\u001b[1;32m    550\u001b[0m                                                columns)\n\u001b[1;32m    551\u001b[0m \u001b[0;34m\u001b[0m\u001b[0m\n",
      "\u001b[0;32m~/.local/lib/python3.8/site-packages/pyarrow/pandas_compat.py\u001b[0m in \u001b[0;36m_get_columns_to_convert\u001b[0;34m(df, schema, preserve_index, columns)\u001b[0m\n\u001b[1;32m    331\u001b[0m \u001b[0;34m\u001b[0m\u001b[0m\n\u001b[1;32m    332\u001b[0m     \u001b[0;32mif\u001b[0m \u001b[0;32mnot\u001b[0m \u001b[0mdf\u001b[0m\u001b[0;34m.\u001b[0m\u001b[0mcolumns\u001b[0m\u001b[0;34m.\u001b[0m\u001b[0mis_unique\u001b[0m\u001b[0;34m:\u001b[0m\u001b[0;34m\u001b[0m\u001b[0;34m\u001b[0m\u001b[0m\n\u001b[0;32m--> 333\u001b[0;31m         raise ValueError(\n\u001b[0m\u001b[1;32m    334\u001b[0m             \u001b[0;34m'Duplicate column names found: {}'\u001b[0m\u001b[0;34m.\u001b[0m\u001b[0mformat\u001b[0m\u001b[0;34m(\u001b[0m\u001b[0mlist\u001b[0m\u001b[0;34m(\u001b[0m\u001b[0mdf\u001b[0m\u001b[0;34m.\u001b[0m\u001b[0mcolumns\u001b[0m\u001b[0;34m)\u001b[0m\u001b[0;34m)\u001b[0m\u001b[0;34m\u001b[0m\u001b[0;34m\u001b[0m\u001b[0m\n\u001b[1;32m    335\u001b[0m         )\n",
      "\u001b[0;31mValueError\u001b[0m: Duplicate column names found: ['2021-03-18 09:25:23', '2021-03-18 09:25:23_', '2021-03-18 09:25:23', '2021-03-18 09:25:23_', '2021-03-18 09:25:23', 'tot']"
     ]
    }
   ],
   "source": [
    "fulldf = pd.DataFrame()\n",
    "\n",
    "for _ in tqdm_notebook(range(5)):\n",
    "    tickers, timestamp = most_quoted(top=10)\n",
    "#     print(timestamp)\n",
    "    fulldf = fulldf.join(tickers, how='outer', rsuffix='_')\n",
    "    display(fulldf)\n",
    "    display(len(fulldf.index.unique()) == len(fulldf.index))\n",
    "    time.sleep(1+np.random.randint(0, 1))\n",
    "    \n",
    "fulldf.columns=pd.Series(fulldf.columns).astype(str)\n",
    "fulldf['tot'] = fulldf.sum(axis=1).sort_values(ascending=False)\n",
    "\n",
    "fname = 'wsb files/tick_freq ' + time_name(time.time()) + '.parquet'\n",
    "fulldf.to_parquet(fname)"
   ]
  },
  {
   "cell_type": "code",
   "execution_count": null,
   "metadata": {},
   "outputs": [],
   "source": [
    "fulldf"
   ]
  },
  {
   "cell_type": "code",
   "execution_count": null,
   "metadata": {},
   "outputs": [],
   "source": []
  },
  {
   "cell_type": "code",
   "execution_count": null,
   "metadata": {},
   "outputs": [],
   "source": []
  },
  {
   "cell_type": "code",
   "execution_count": null,
   "metadata": {},
   "outputs": [],
   "source": []
  },
  {
   "cell_type": "code",
   "execution_count": 14,
   "metadata": {},
   "outputs": [
    {
     "name": "stdout",
     "output_type": "stream",
     "text": [
      "Downloading emoji data ...\n",
      "... OK (Got response in 0.81 seconds)\n",
      "Writing emoji data to /home/batyrkhan/.demoji/codes.json ...\n",
      "... OK\n"
     ]
    }
   ],
   "source": [
    "#!/usr/bin/env python3\n",
    "\n",
    "import pytz\n",
    "import requests\n",
    "import time\n",
    "import sys\n",
    "\n",
    "import pandas as pd\n",
    "pd.set_option('display.max_columns', None)\n",
    "\n",
    "from datetime import datetime\n",
    "from string import punctuation\n",
    "\n",
    "\n",
    "sys.path[0] = '../../'\n",
    "import config\n",
    "from QuantumCapital import constants\n",
    "from QuantumCapital.DBManager import DBManager\n",
    "\n",
    "import demoji\n",
    "demoji.download_codes()\n",
    "\n",
    "DB_USERNAME = config.DB_USERNAME\n",
    "DB_PASS = config.DB_PASS\n",
    "\n",
    "\n",
    "def clean_ticker(tick):\n",
    "    r = ''.join([t for t in list(tick) if t not in punctuation])\n",
    "    return demoji.replace(r, '')\n",
    "\n",
    "\n",
    "def is_ticker_like(text):\n",
    "    \"\"\"\n",
    "    Checks if the text looks like a ticker. Not 100% reliable\n",
    "    \"\"\"\n",
    "    if (text.upper() == text) or (text[0] == '$'):\n",
    "\n",
    "        text = ''.join([t for t in list(text) if t not in punctuation])\n",
    "\n",
    "        if text in ['I', '', 'WSB']:\n",
    "            return False\n",
    "        else:\n",
    "            try:\n",
    "                float(text)\n",
    "                return False\n",
    "            except:\n",
    "                try:\n",
    "                    float(text.split('$')[1])\n",
    "                    return False\n",
    "                except:\n",
    "                    return True\n",
    "    else:\n",
    "        return False\n",
    "\n",
    "\n",
    "def find_ticker_like(text):\n",
    "    for candidate in text.split(' '):\n",
    "        if is_ticker_like(candidate):\n",
    "            r = clean_ticker(candidate)\n",
    "            if 0 < len(r) <= 10:\n",
    "                return r\n",
    "    return None\n",
    "\n",
    "\n",
    "def get_posts():\n",
    "    fresh = ''\n",
    "    while str(datetime.today().year) not in fresh:\n",
    "        r = requests.get(\n",
    "            'https://www.reddit.com/r/wallstreetbets/.json',\n",
    "            headers={'user-agent': 'Mozilla/5.0'})\n",
    "        fresh = 'https://www.reddit.com' + r.json()['data']['children'][0]['data']['permalink'] + '.json'\n",
    "    r = requests.get(fresh, headers={'user-agent': 'Mozilla/5.0'})\n",
    "    posts = r.json()[1]['data']['children']\n",
    "    posts_new = []\n",
    "    for post in posts:\n",
    "        if 'body' not in post['data']:\n",
    "            continue\n",
    "        dt = datetime.fromtimestamp(post['data']['created_utc'], pytz.UTC)\n",
    "        print(dt)\n",
    "        print(dt.tzinfo)\n",
    "        break\n",
    "        dt = datetime(dt.year, dt.month, dt.day, dt.hour, dt.minute, dt.second, 0, pytz.timezone('Asia/Almaty'))\n",
    "        posts_new.append({'dt': dt, 'id': post['data']['id'], 'ticker_like': find_ticker_like(post['data']['body']), 'text': post['data']['body']})\n",
    "    return posts_new\n",
    "\n",
    "\n",
    "def get_last_record_id(dbm: DBManager):\n",
    "    cursor = dbm.select_cursor(f'select id from {constants.WSB_DISCUSSION_THREAD_TABLE} order by dt desc limit 1')\n",
    "    try:\n",
    "        id_num = cursor.fetchone()[0]\n",
    "    except TypeError as error:\n",
    "        id_num = None\n",
    "    finally:\n",
    "        cursor.close()\n",
    "    return id_num\n",
    "\n",
    "\n",
    "def cut_posts(last_id, posts):\n",
    "    i = 0\n",
    "    post = posts[i]\n",
    "    while i < len(posts) and post['id'] != last_id:\n",
    "        i += 1\n",
    "        if i < len(posts):\n",
    "            post = posts[i]\n",
    "    return posts[:i]\n",
    "\n",
    "\n",
    "dbm = DBManager(DB_USERNAME, DB_PASS, 'ODS')\n",
    "last_id = get_last_record_id(dbm)\n",
    "\n",
    "# while True:\n",
    "#     posts = get_posts()\n",
    "#     posts = cut_posts(last_id, posts)\n",
    "#     if posts:\n",
    "#         dbm.insert_df_simple(pd.DataFrame(posts[::-1]), constants.WSB_DISCUSSION_THREAD_TABLE)\n",
    "#         dbm.commit()\n",
    "#         last_id = posts[0]['id']\n",
    "#     time.sleep(200)"
   ]
  },
  {
   "cell_type": "code",
   "execution_count": 15,
   "metadata": {},
   "outputs": [
    {
     "name": "stdout",
     "output_type": "stream",
     "text": [
      "2021-03-23 11:33:17+00:00\n",
      "UTC\n"
     ]
    },
    {
     "data": {
      "text/plain": [
       "[]"
      ]
     },
     "execution_count": 15,
     "metadata": {},
     "output_type": "execute_result"
    }
   ],
   "source": [
    "get_posts()"
   ]
  }
 ],
 "metadata": {
  "kernelspec": {
   "display_name": "Python 3",
   "language": "python",
   "name": "python3"
  },
  "language_info": {
   "codemirror_mode": {
    "name": "ipython",
    "version": 3
   },
   "file_extension": ".py",
   "mimetype": "text/x-python",
   "name": "python",
   "nbconvert_exporter": "python",
   "pygments_lexer": "ipython3",
   "version": "3.8.5"
  }
 },
 "nbformat": 4,
 "nbformat_minor": 2
}
